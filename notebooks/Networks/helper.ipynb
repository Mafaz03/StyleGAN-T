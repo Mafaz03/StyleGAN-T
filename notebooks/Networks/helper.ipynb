{
 "cells": [
  {
   "cell_type": "code",
   "execution_count": 1,
   "id": "eab865e9",
   "metadata": {},
   "outputs": [],
   "source": [
    "import contextlib\n",
    "import torch\n",
    "import warnings\n",
    "from typing import Union, Any, Optional\n",
    "import numpy as np"
   ]
  },
  {
   "cell_type": "code",
   "execution_count": 2,
   "id": "19cea6c7",
   "metadata": {},
   "outputs": [],
   "source": [
    "@contextlib.contextmanager\n",
    "def supress_tracer_warnings():\n",
    "    flt  = ('ignore', None, torch.jit.TracerWarning, None, 0)\n",
    "    warnings.filters.insert(0, flt)\n",
    "    yield\n",
    "    warnings.filters.remove(flt)"
   ]
  },
  {
   "cell_type": "code",
   "execution_count": 3,
   "id": "7efbdd4e",
   "metadata": {},
   "outputs": [],
   "source": [
    "def assert_shape(tensor, ref_shape):\n",
    "    if tensor.ndim != len(ref_shape): raise AssertionError(f'Wrong number of dimensions: got {tensor.ndim}, expected {len(ref_shape)}')\n",
    "\n",
    "    for idx, (size, ref_size) in enumerate(zip(tensor.shape, ref_shape)):\n",
    "        if ref_size is None: pass\n",
    "        elif isinstance(ref_size, torch.Tensor):\n",
    "            with supress_tracer_warnings():\n",
    "                torch._assert(\n",
    "                    torch.equal(torch.as_tensor(size), ref_size), f'Wrong size for dimension {idx}'\n",
    "                )\n",
    "        elif isinstance(size, torch.Tensor):\n",
    "            with supress_tracer_warnings():\n",
    "                torch.equal(\n",
    "                    torch._assert(size, torch.as_tensor(ref_shape)), f'Wrong size for dimension {idx}'\n",
    "                )\n",
    "        elif size != ref_size:\n",
    "            raise AssertionError(f'Wrong size for dimension {idx}: got {size}, expected {ref_size}')\n",
    "\n",
    "assert_shape(torch.tensor([[2,4]]), [1,2])"
   ]
  },
  {
   "cell_type": "code",
   "execution_count": 4,
   "id": "d7d139df",
   "metadata": {},
   "outputs": [
    {
     "data": {
      "text/plain": [
       "(False, True)"
      ]
     },
     "execution_count": 4,
     "metadata": {},
     "output_type": "execute_result"
    }
   ],
   "source": [
    "def is_list_of_str(arr: Any):\n",
    "    if arr is None: return None\n",
    "    is_list = isinstance(arr, list) or isinstance(arr, np.ndarray) or isinstance(arr, tuple)\n",
    "    is_str = isinstance(arr[0], str)\n",
    "    return is_list and is_str\n",
    "\n",
    "is_list_of_str([1]), is_list_of_str(['a',1])"
   ]
  },
  {
   "cell_type": "code",
   "execution_count": 5,
   "id": "348d3b39",
   "metadata": {},
   "outputs": [
    {
     "data": {
      "text/plain": [
       "tensor([[0.5727, 0.4702, 0.9870, 0.7513],\n",
       "        [0.0813, 0.6756, 0.9439, 0.4234]])"
      ]
     },
     "execution_count": 5,
     "metadata": {},
     "output_type": "execute_result"
    }
   ],
   "source": [
    "def normalise_2nd_moment(x: torch.Tensor, dim: int = 1, eps: float = 1e-8):\n",
    "    a = x.square().mean(dim=dim, keepdim=True) + eps\n",
    "    a = a.rsqrt()\n",
    "    a = x * a\n",
    "    return x\n",
    "\n",
    "normalise_2nd_moment(torch.rand(2,4))"
   ]
  },
  {
   "cell_type": "code",
   "execution_count": null,
   "id": "a2d28ce0",
   "metadata": {},
   "outputs": [],
   "source": []
  },
  {
   "cell_type": "code",
   "execution_count": null,
   "id": "5239fd68",
   "metadata": {},
   "outputs": [],
   "source": []
  },
  {
   "cell_type": "code",
   "execution_count": null,
   "id": "c1f60119",
   "metadata": {},
   "outputs": [],
   "source": []
  },
  {
   "cell_type": "code",
   "execution_count": null,
   "id": "92e3434e",
   "metadata": {},
   "outputs": [],
   "source": []
  }
 ],
 "metadata": {
  "kernelspec": {
   "display_name": "Python 3",
   "language": "python",
   "name": "python3"
  },
  "language_info": {
   "codemirror_mode": {
    "name": "ipython",
    "version": 3
   },
   "file_extension": ".py",
   "mimetype": "text/x-python",
   "name": "python",
   "nbconvert_exporter": "python",
   "pygments_lexer": "ipython3",
   "version": "3.11.5"
  }
 },
 "nbformat": 4,
 "nbformat_minor": 5
}
