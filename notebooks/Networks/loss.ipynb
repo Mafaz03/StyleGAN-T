{
 "cells": [
  {
   "cell_type": "code",
   "execution_count": 5,
   "id": "2fb8f609",
   "metadata": {},
   "outputs": [],
   "source": [
    "from typing import Optional\n",
    "\n",
    "import numpy as np\n",
    "import torch\n",
    "import torch.nn as nn\n",
    "import torch.nn.functional as F\n",
    "from torchvision.transforms import RandomCrop\n",
    "# from torch_utils import training_stats\n",
    "from clip import CLIP\n",
    "\n",
    "import sys\n",
    "import os\n",
    "\n",
    "cur_path = '/'.join(os.getcwd().split('/')[:-1])\n",
    "sys.path.insert(0, f'{cur_path}/torch_utils/ops')\n",
    "sys.path.insert(0, f'{cur_path}/torch_utils')\n",
    "\n",
    "import upfirdn2d"
   ]
  },
  {
   "cell_type": "code",
   "execution_count": 19,
   "id": "a8348046",
   "metadata": {},
   "outputs": [
    {
     "data": {
      "text/plain": [
       "(tensor([0.6201, 0.4719, 0.2988, 0.6245, 0.7970]),\n",
       " tensor([0.0000e+00,        nan, 0.0000e+00, 1.1921e-07, 1.1921e-07]))"
      ]
     },
     "execution_count": 19,
     "metadata": {},
     "output_type": "execute_result"
    }
   ],
   "source": [
    "def spherical_distance(x: torch.Tensor, y: torch.Tensor):\n",
    "    x = F.normalize(x, dim = -1)\n",
    "    y = F.normalize(y, dim = -1)\n",
    "\n",
    "    # Smaller angle -> more similar\n",
    "    # Larger angle  -> more dissimilar\n",
    "    return (x * y).sum(-1).arccos().pow(2)\n",
    "\n",
    "x = torch.rand(5, 10)\n",
    "y = torch.rand(5, 10)\n",
    "spherical_distance(x, y), spherical_distance(x, x)"
   ]
  },
  {
   "cell_type": "code",
   "execution_count": 39,
   "id": "e98de627",
   "metadata": {},
   "outputs": [
    {
     "data": {
      "text/plain": [
       "(2.0, 1.0, 0.0)"
      ]
     },
     "execution_count": 39,
     "metadata": {},
     "output_type": "execute_result"
    }
   ],
   "source": [
    "def set_blur_sigma(cur_nimg: int):\n",
    "    blur_fade_kimg = 2 # fade out after 2,000 images\n",
    "    blur_init_sigma = 2\n",
    "\n",
    "    if blur_fade_kimg > 1:\n",
    "        blur_curr_sigma = max(1 - cur_nimg / (blur_fade_kimg  * 1000), 0) * blur_init_sigma\n",
    "    else: \n",
    "        blur_curr_sigma = 0\n",
    "\n",
    "    return blur_curr_sigma\n",
    "\n",
    "set_blur_sigma(0), set_blur_sigma(1000), set_blur_sigma(2000)"
   ]
  },
  {
   "cell_type": "code",
   "execution_count": null,
   "id": "9ca28768",
   "metadata": {},
   "outputs": [
    {
     "data": {
      "text/plain": [
       "torch.Size([5, 3, 224, 224])"
      ]
     },
     "execution_count": 49,
     "metadata": {},
     "output_type": "execute_result"
    }
   ],
   "source": [
    "def blur(img: torch.Tensor, blur_sigma: float) -> torch.Tensor:\n",
    "    # Applies Blur\n",
    "    blur_size = np.floor(blur_sigma * 3)\n",
    "    if blur_size > 0:\n",
    "        f = torch.arange(-blur_size, blur_size + 1, device=img.device, dtype = torch.float32) # e.g., [-3, -2, ..., 3]\n",
    "        f = f.div(blur_sigma).square().neg().exp2()                                           # exp(-x^2 / (2σ^2))\n",
    "        img = upfirdn2d.filter2d(img, f / f.sum())\n",
    "    return img\n",
    "\n",
    "img = torch.rand(5, 3, 224, 224)\n",
    "blur(img, 3).shape"
   ]
  },
  {
   "cell_type": "code",
   "execution_count": null,
   "id": "d4a004ac",
   "metadata": {},
   "outputs": [],
   "source": []
  },
  {
   "cell_type": "code",
   "execution_count": null,
   "id": "5de4d295",
   "metadata": {},
   "outputs": [],
   "source": []
  },
  {
   "cell_type": "code",
   "execution_count": null,
   "id": "dbeba586",
   "metadata": {},
   "outputs": [],
   "source": []
  }
 ],
 "metadata": {
  "kernelspec": {
   "display_name": "Python 3",
   "language": "python",
   "name": "python3"
  },
  "language_info": {
   "codemirror_mode": {
    "name": "ipython",
    "version": 3
   },
   "file_extension": ".py",
   "mimetype": "text/x-python",
   "name": "python",
   "nbconvert_exporter": "python",
   "pygments_lexer": "ipython3",
   "version": "3.11.5"
  }
 },
 "nbformat": 4,
 "nbformat_minor": 5
}
