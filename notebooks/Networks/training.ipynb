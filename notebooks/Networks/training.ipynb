{
 "cells": [
  {
   "cell_type": "code",
   "execution_count": 1,
   "id": "265d50af",
   "metadata": {},
   "outputs": [],
   "source": [
    "import torch\n",
    "from torch import nn\n",
    "\n",
    "from Generator import Generator\n",
    "from Discriminator import ProjectedDiscriminator\n",
    "\n",
    "from dataset_creation import StyleDataset\n",
    "from torch.utils.data import DataLoader, Dataset\n",
    "\n",
    "from tqdm import tqdm\n",
    "from helper import fetch_data\n",
    "from loss import ProjectedGANLoss"
   ]
  },
  {
   "cell_type": "code",
   "execution_count": 2,
   "id": "ba525f8b",
   "metadata": {},
   "outputs": [],
   "source": [
    "Z_DIM          = 64\n",
    "C_DIM          = 768\n",
    "BATCH_SIZE     = 1\n",
    "EPOCHS         = 3\n",
    "DEVICE         = \"cpu\"\n",
    "IMG_RESOLUTION = 128\n",
    "CLIP_wWEIGHT   = 0.2"
   ]
  },
  {
   "cell_type": "code",
   "execution_count": 3,
   "id": "bc023f34",
   "metadata": {},
   "outputs": [
    {
     "name": "stderr",
     "output_type": "stream",
     "text": [
      "/Library/Frameworks/Python.framework/Versions/3.11/lib/python3.11/site-packages/open_clip/factory.py:388: UserWarning: These pretrained weights were trained with QuickGELU activation but the model config does not have that enabled. Consider using a model config with a \"-quickgelu\" suffix or enable with a flag.\n",
      "  warnings.warn(\n",
      "/Library/Frameworks/Python.framework/Versions/3.11/lib/python3.11/site-packages/timm/models/_factory.py:117: UserWarning: Mapping deprecated model name vit_small_patch16_224_dino to current vit_small_patch16_224.dino.\n",
      "  model = create_fn(\n"
     ]
    }
   ],
   "source": [
    "generator     = Generator(z_dim = Z_DIM, conditional = True, img_resolution = IMG_RESOLUTION)\n",
    "discriminator = ProjectedDiscriminator(c_dim = C_DIM)\n",
    "\n",
    "discriminator.name = \"D\"\n",
    "generator.name     = \"G\"\n",
    "\n",
    "discriminator.opt = torch.optim.Adam(generator.parameters(), lr = 0.002, betas=[0, 0.99])\n",
    "generator.opt = torch.optim.Adam(discriminator.parameters(), lr = 0.002, betas=[0, 0.99])"
   ]
  },
  {
   "cell_type": "code",
   "execution_count": 4,
   "id": "06dd8532",
   "metadata": {},
   "outputs": [],
   "source": [
    "def partial_freeze(gen_or_disc: nn.Module) -> None:\n",
    "    phase = gen_or_disc.name\n",
    "\n",
    "    if phase == \"G\":\n",
    "\n",
    "        trainable_layers = gen_or_disc.trainable_layers\n",
    "        # Freeze all layers first\n",
    "        gen_or_disc.requires_grad_(False)\n",
    "\n",
    "        # Then selectively unfreeze based on substring match\n",
    "        for name, layer in gen_or_disc.named_modules():\n",
    "            should_train = any(layer_type in name for layer_type in trainable_layers)\n",
    "            layer.requires_grad_(should_train)\n",
    "    \n",
    "    elif phase == \"D\":\n",
    "        gen_or_disc.dino.requires_grad_(False)\n",
    "    \n",
    "    else: raise NotImplemented\n",
    "    "
   ]
  },
  {
   "cell_type": "code",
   "execution_count": 5,
   "id": "4bf5ebb0",
   "metadata": {},
   "outputs": [],
   "source": [
    "cudnn_benchmark = True\n",
    "\n",
    "torch.backends.cudnn.benchmark = cudnn_benchmark    # Improves training speed.\n",
    "torch.backends.cuda.matmul.allow_tf32 = False       # Improves numerical accuracy.\n",
    "torch.backends.cudnn.allow_tf32 = False             # Improves numerical accuracy.\n",
    "# conv2d_gradfix.enabled = True                       # Improves training speed."
   ]
  },
  {
   "cell_type": "code",
   "execution_count": 6,
   "id": "06c39ad9",
   "metadata": {},
   "outputs": [],
   "source": [
    "# EMA gives more weight to recent values but still considers past history. \n",
    "# It’s like a “soft average” that forgets old data slowly.\n",
    "# EMA(t) = beta . EMA(t) - 1 + (1 - beta) . xt\n",
    "\n",
    "#  beta in [0, 1): decay rate (e.g., 0.99 or 0.999)\n",
    "#  xt            : the current value (e.g., a model parameter or loss)\n",
    "#  EMA(t)        : the new smoothed value\n",
    "#  EMA(t-1)      : the previous smoothed value"
   ]
  },
  {
   "cell_type": "code",
   "execution_count": 7,
   "id": "b116441b",
   "metadata": {},
   "outputs": [],
   "source": [
    "loss = ProjectedGANLoss(G = generator, \n",
    "                        D = discriminator, \n",
    "                        blur_fade_kimg = 0.1, # after 100 image there will be 0 Blur,\n",
    "                        clip_weight = CLIP_wWEIGHT,\n",
    "                        device = DEVICE\n",
    "                        )"
   ]
  },
  {
   "cell_type": "code",
   "execution_count": 8,
   "id": "9c1352e2",
   "metadata": {},
   "outputs": [],
   "source": [
    "sd = StyleDataset(path=\"/Users/mohamedmafaz/Desktop/StyleGAN-T/notebooks/Networks/dataset/\", resolution=224)\n",
    "sdl = DataLoader(sd, BATCH_SIZE, shuffle=True)"
   ]
  },
  {
   "cell_type": "code",
   "execution_count": 9,
   "id": "2acd4f59",
   "metadata": {},
   "outputs": [],
   "source": [
    "optimizer_gen = torch.optim.Adam(generator.parameters(), lr = 0.002, betas=[0, 0.99])\n",
    "optimizer_dis = torch.optim.Adam(discriminator.parameters(), lr = 0.002, betas=[0, 0.99])"
   ]
  },
  {
   "cell_type": "code",
   "execution_count": null,
   "id": "b11573c7",
   "metadata": {},
   "outputs": [],
   "source": [
    "for epoch in tqdm(range(EPOCHS)):\n",
    "    chance = 0\n",
    "    cur_nimg = 0\n",
    "    for real_images, real_labels in sdl:\n",
    "        real_images = (real_images/(255/2)) - 1           # normalizing images from [-1, 1]\n",
    "        batch_size = real_images.shape[0]\n",
    "        all_gen_z = torch.randn([batch_size, Z_DIM], device = DEVICE)\n",
    "\n",
    "        if chance % 2 == 0:\n",
    "            phase = discriminator\n",
    "        else: phase = generator\n",
    "\n",
    "        # Train Discriminator and Generator\n",
    "        phase.requires_grad_(True)\n",
    "        partial_freeze(phase)\n",
    "        loss.accumulate_gradients(phase = phase.name, cur_nimg = cur_nimg, real_imgs = real_images, c_raw = real_labels, gen_z = all_gen_z, verbose = False)\n",
    "        \n",
    "        training_stats = loss.training_stats\n",
    "        if phase.name == \"G\": print(\"Generator Status\")\n",
    "        if phase.name == \"D\": print(\"Discriminator Status\")\n",
    "        print('-'*20)\n",
    "        for key in training_stats:\n",
    "            print(f\"{key}: {training_stats[key]}\", end = \" || \")\n",
    "        \n",
    "        phase.opt.step()\n",
    "        phase.opt.zero_grad()\n",
    "\n",
    "        phase.requires_grad_(False)\n",
    "\n",
    "        chance += 1\n",
    "        cur_nimg += batch_size"
   ]
  }
 ],
 "metadata": {
  "kernelspec": {
   "display_name": "Python 3",
   "language": "python",
   "name": "python3"
  },
  "language_info": {
   "codemirror_mode": {
    "name": "ipython",
    "version": 3
   },
   "file_extension": ".py",
   "mimetype": "text/x-python",
   "name": "python",
   "nbconvert_exporter": "python",
   "pygments_lexer": "ipython3",
   "version": "3.11.5"
  }
 },
 "nbformat": 4,
 "nbformat_minor": 5
}
