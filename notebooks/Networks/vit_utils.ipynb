{
 "cells": [
  {
   "cell_type": "code",
   "execution_count": 10,
   "id": "21d4f194",
   "metadata": {},
   "outputs": [],
   "source": [
    "import types\n",
    "import math\n",
    "from typing import Callable\n",
    "\n",
    "import torch\n",
    "import torch.nn as nn\n",
    "import torch.nn.functional as F\n",
    "\n",
    "import timm"
   ]
  },
  {
   "cell_type": "code",
   "execution_count": null,
   "id": "6fe46c2a",
   "metadata": {},
   "outputs": [
    {
     "name": "stderr",
     "output_type": "stream",
     "text": [
      "/Library/Frameworks/Python.framework/Versions/3.11/lib/python3.11/site-packages/timm/models/_factory.py:117: UserWarning: Mapping deprecated model name vit_small_patch16_224_dino to current vit_small_patch16_224.dino.\n",
      "  model = create_fn(\n"
     ]
    },
    {
     "data": {
      "application/vnd.jupyter.widget-view+json": {
       "model_id": "157857fa62d8448a94a8a912cc28df26",
       "version_major": 2,
       "version_minor": 0
      },
      "text/plain": [
       "model.safetensors:   0%|          | 0.00/86.7M [00:00<?, ?B/s]"
      ]
     },
     "metadata": {},
     "output_type": "display_data"
    }
   ],
   "source": [
    "dino = timm.create_model('vit_small_patch16_224_dino', pretrained=True)"
   ]
  },
  {
   "cell_type": "code",
   "execution_count": 39,
   "id": "f9e548e9",
   "metadata": {},
   "outputs": [],
   "source": [
    "patch_size = [16, 16]\n",
    "hooks = [2, 5, 8, 11]\n",
    "hook_patch = True\n",
    "start_index = 1"
   ]
  },
  {
   "cell_type": "code",
   "execution_count": 17,
   "id": "cd67d756",
   "metadata": {},
   "outputs": [],
   "source": [
    "pretrained = nn.Module()\n",
    "pretrained.model = dino"
   ]
  },
  {
   "cell_type": "code",
   "execution_count": 51,
   "id": "11f78a71",
   "metadata": {},
   "outputs": [],
   "source": [
    "activations = {}\n",
    "def get_activation(name: str) -> Callable:\n",
    "    def hook(model, inputs, outputs):\n",
    "        activations[name] = outputs\n",
    "    return hook"
   ]
  },
  {
   "cell_type": "code",
   "execution_count": null,
   "id": "c71bc808",
   "metadata": {},
   "outputs": [],
   "source": [
    "for i in range(len(hooks)):\n",
    "    pretrained.model.blocks[hooks[i]].register_forward_hook(get_activation(f'{i}')) # Get shape of 2nd, 5th, 6th... Block of ViT\n",
    "if hook_patch: pretrained.model.pos_drop.register_forward_hook(get_activation('4'))"
   ]
  },
  {
   "cell_type": "code",
   "execution_count": 56,
   "id": "b823c4ad",
   "metadata": {},
   "outputs": [
    {
     "data": {
      "text/plain": [
       "torch.Size([5, 384])"
      ]
     },
     "execution_count": 56,
     "metadata": {},
     "output_type": "execute_result"
    }
   ],
   "source": [
    "dino.eval()\n",
    "output = dino(torch.rand(5, 3, 224, 224))\n",
    "output.shape"
   ]
  },
  {
   "cell_type": "code",
   "execution_count": 69,
   "id": "c375b4c2",
   "metadata": {},
   "outputs": [
    {
     "name": "stdout",
     "output_type": "stream",
     "text": [
      "Block 2 Shape: [5, 197, 384]\n",
      "Block 5 Shape: [5, 197, 384]\n",
      "Block 8 Shape: [5, 197, 384]\n",
      "Block 11 Shape: [5, 197, 384]\n",
      "Dropout Block Shape: [5, 197, 384]\n"
     ]
    }
   ],
   "source": [
    "for i in range(len(hooks)):\n",
    "    print(f\"Block {hooks[i]} Shape:\", list(activations[f'{i}'].shape))\n",
    "if hook_patch:\n",
    "    print(f\"Dropout Block Shape:\", list(activations['4'].shape))"
   ]
  },
  {
   "cell_type": "code",
   "execution_count": 67,
   "id": "7c663ba3",
   "metadata": {},
   "outputs": [
    {
     "data": {
      "text/plain": [
       "[5, 197, 384]"
      ]
     },
     "execution_count": 67,
     "metadata": {},
     "output_type": "execute_result"
    }
   ],
   "source": [
    "list(activations['4'].shape)"
   ]
  },
  {
   "cell_type": "code",
   "execution_count": null,
   "id": "98bf0851",
   "metadata": {},
   "outputs": [
    {
     "data": {
      "text/plain": [
       "Dropout(p=0.0, inplace=False)"
      ]
     },
     "execution_count": 55,
     "metadata": {},
     "output_type": "execute_result"
    }
   ],
   "source": [
    "# B = batch size\n",
    "# N = number of tokens\n",
    "# C = embedding dim"
   ]
  },
  {
   "cell_type": "code",
   "execution_count": 88,
   "id": "2822da4f",
   "metadata": {},
   "outputs": [
    {
     "data": {
      "text/plain": [
       "torch.Size([5, 76, 768])"
      ]
     },
     "execution_count": 88,
     "metadata": {},
     "output_type": "execute_result"
    }
   ],
   "source": [
    "B = 5\n",
    "N = 77\n",
    "C = 768\n",
    "start_index = 1\n",
    "\n",
    "x = torch.rand(B, N, C) # [5, 77, 768]\n",
    "\n",
    "# Every local patch token gains global context\n",
    "if start_index == 2:\n",
    "    readout = (x[:, 0] + x[:, 1]) / 2 # (CLS + DIST) / 2\n",
    "else:\n",
    "    readout = x[:, 0]                 # CLS\n",
    "\n",
    "# readout: [B,             C]\n",
    "# x      : [B, N - 2 or 1, C]\n",
    "out = x[: , start_index:] + readout.unsqueeze(1)\n",
    "out.shape"
   ]
  },
  {
   "cell_type": "code",
   "execution_count": 96,
   "id": "03444a11",
   "metadata": {},
   "outputs": [
    {
     "data": {
      "text/plain": [
       "torch.Size([5, 76, 768])"
      ]
     },
     "execution_count": 96,
     "metadata": {},
     "output_type": "execute_result"
    }
   ],
   "source": [
    "class Readout(nn.Module):\n",
    "    \"\"\"\n",
    "    Adds CLS and/or DIST Tokens to the patches\n",
    "    \"\"\"\n",
    "    def __init__(self, start_index = 1):\n",
    "        super().__init__()\n",
    "\n",
    "        self.start_index = start_index\n",
    "    \n",
    "    def forward(self, x: torch.Tensor) -> torch.Tensor:\n",
    "        # X [B, N, C]\n",
    "        # Every local patch token gains global context\n",
    "        if self.start_index == 2:\n",
    "            readout = (x[:, 0] + x[:, 1]) / 2 # (CLS + DIST) / 2\n",
    "        else:\n",
    "            readout = x[:, 0]                 # CLS\n",
    "        \n",
    "        # readout: [B,             C]\n",
    "        # x      : [B, N - 2 or 1, C]\n",
    "        return x[: , self.start_index:] + readout.unsqueeze(1)\n",
    "\n",
    "readout = Readout(start_index=1)\n",
    "readout(torch.rand(5, 77, 768)).shape"
   ]
  },
  {
   "cell_type": "code",
   "execution_count": 99,
   "id": "d896a290",
   "metadata": {},
   "outputs": [
    {
     "data": {
      "text/plain": [
       "torch.Size([5, 768, 77])"
      ]
     },
     "execution_count": 99,
     "metadata": {},
     "output_type": "execute_result"
    }
   ],
   "source": [
    "class Transpose(nn.Module):\n",
    "    \"\"\"\n",
    "    from [B, N, C] to [B, C, N]\n",
    "    \"\"\"\n",
    "    def __init__(self, dim1: int, dim2: int):\n",
    "        super().__init__()\n",
    "        self.dim1 = dim1\n",
    "        self.dim2 = dim2\n",
    "    \n",
    "    def forward(self, x: torch.Tensor) -> torch.Tensor:\n",
    "        return x.transpose(self.dim1, self.dim2).contiguous()\n",
    "\n",
    "transpose = Transpose(1, 2)\n",
    "transpose(torch.rand(5, 77, 768)).shape"
   ]
  },
  {
   "cell_type": "code",
   "execution_count": null,
   "id": "874811d6",
   "metadata": {},
   "outputs": [
    {
     "data": {
      "text/plain": [
       "torch.Size([5, 196, 384])"
      ]
     },
     "execution_count": 114,
     "metadata": {},
     "output_type": "execute_result"
    }
   ],
   "source": [
    "x = torch.rand(5, 3, 224, 224)\n",
    "a = pretrained.model.patch_embed.proj(x) # a: [B, embedding dimension, H // 16   W // 16]\n",
    "a = a.flatten(2)                         # a: [B, embedding dimension, H // 16 x W // 16]\n",
    "a = a.transpose(1,2)                     # a: [B, H // 16 x W // 16, embedding dimension]\n",
    "x = a\n",
    "# x: [B, patch_dim, embedding dimension]\n",
    "# x: [B, N, C]\n",
    "\n"
   ]
  },
  {
   "cell_type": "code",
   "execution_count": 101,
   "id": "e140fa35",
   "metadata": {},
   "outputs": [
    {
     "data": {
      "text/plain": [
       "method"
      ]
     },
     "execution_count": 101,
     "metadata": {},
     "output_type": "execute_result"
    }
   ],
   "source": [
    "types.MethodType"
   ]
  },
  {
   "cell_type": "code",
   "execution_count": null,
   "id": "0c165e18",
   "metadata": {},
   "outputs": [],
   "source": []
  },
  {
   "cell_type": "code",
   "execution_count": null,
   "id": "4138fcf0",
   "metadata": {},
   "outputs": [],
   "source": []
  }
 ],
 "metadata": {
  "kernelspec": {
   "display_name": "Python 3",
   "language": "python",
   "name": "python3"
  },
  "language_info": {
   "codemirror_mode": {
    "name": "ipython",
    "version": 3
   },
   "file_extension": ".py",
   "mimetype": "text/x-python",
   "name": "python",
   "nbconvert_exporter": "python",
   "pygments_lexer": "ipython3",
   "version": "3.11.5"
  }
 },
 "nbformat": 4,
 "nbformat_minor": 5
}
