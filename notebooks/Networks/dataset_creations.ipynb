{
 "cells": [
  {
   "cell_type": "code",
   "execution_count": 8,
   "id": "259ce820",
   "metadata": {},
   "outputs": [],
   "source": [
    "import os\n",
    "import zipfile\n",
    "import PIL.Image\n",
    "import json\n",
    "import copy\n",
    "from typing import IO, Optional, List\n",
    "\n",
    "import numpy as np\n",
    "import torch\n",
    "from torch import nn\n",
    "\n",
    "from torch.utils.data import DataLoader, Dataset"
   ]
  },
  {
   "cell_type": "code",
   "execution_count": null,
   "id": "4eb6ff11",
   "metadata": {},
   "outputs": [],
   "source": [
    "class Dataset(Dataset):\n",
    "    def __init__(self, \n",
    "                 name       : str,                     # Name of the Dataset\n",
    "                 raw_shape  : List,                    # Raw shape of the images [B, C, H, W]\n",
    "                 max_size   : Optional[int] = None,    # Artificially limit the size of the dataset. None = no limit. Applied before xflip.\n",
    "                 use_labels : bool = False,            # Enable conditioning labels? False = label dimension is zero.\n",
    "                 xflip      : bool = False,            # Artificially double the size of the dataset via x-flips. Applied after max_size.\n",
    "                 random_seed: Optional[int] = 1,       # Random seed to use when applying max_size.\n",
    "                 ):\n",
    "        super().__init__()\n",
    "        \n",
    "        self._name        = name\n",
    "        self._raw_shape   = list(raw_shape)\n",
    "        self._use_labels  = use_labels\n",
    "        self._raw_labels  = None\n",
    "        self._label_shape = None\n",
    "\n",
    "        self._raw_idx = np.arange(self._raw_shape, dtype = np.int64)\n",
    "        self._base_raw_idx = copy.deepcopy(self._raw_idx)\n",
    "        if (max_size is not None) and len(self._raw_shape[0]) > max_size:\n",
    "            np.random.RandomState(random_seed).shuffle(self._raw_idx)\n",
    "            self._raw_idx = np.sort(self._raw_idx[:max_size])\n",
    "\n",
    "        self.xflip = np.zeros_like(self._raw_idx)       # self.xflip:   [0, 1, 2...]\n",
    "        if xflip:\n",
    "            self._raw_idx = np.tile(self._raw_idx, 2)   # 2; Doubling Dataset\n",
    "                                                        # self._raw_idx: [0, 1, 2.. , 0, 1, 2...]\n",
    "            self.xflip = np.concatenate((self.xflip, np.ones_like(self._raw_idx)))\n",
    "                                                        # self.xflip: [0, 0, 0.. , 1, 1, 1...]\n",
    "\n",
    "    def set_dynamic_lenght(self, new_len: int):\n",
    "        self._raw_idx = self._base_raw_idx[:new_len]\n",
    "\n",
    "\n",
    "    def _load_raw_labels():\n",
    "        # This must be Implmented later on with different class\n",
    "        raise NotImplemented\n",
    "    \n",
    "    def set_class(self, cls_list: List) -> None:\n",
    "        self._raw_labels = self._load_raw_labels()  \n",
    "        new_idcs = [self._raw_labels == cl for cl in cls_list]\n",
    "        \n",
    "        new_idcs = [self._raw_labels == cl for cl in cls_list]     # new_idcs: [True, False, False...]\n",
    "        new_idcs = np.sum(np.vstack(new_idcs), 0)                  # new_idcs: [1   , 0    , 0    ...]\n",
    "        new_idcs = np.where(new_idcs)                              # new_idcs: [2,3..]\n",
    "\n",
    "        self._raw_idx = self._base_raw_idx[new_idcs]\n",
    "        assert all(sorted(cls_list) == np.unique(self._raw_labels[self._raw_idx])) # cls_list == unique labels\n",
    "        print(f\"Training on the following classes: {cls_list}\")\n",
    "    \n",
    "    def _get_raw_labels(self) -> np.ndarray:\n",
    "        if self._raw_labels is None:\n",
    "            self._raw_labels = self._load_raw_labels() if self._use_labels else None\n",
    "            if self._raw_labels is None:\n",
    "                self._raw_labels = np.zeros([self._raw_shape[0], 0], dtype=np.float32)\n",
    "\n",
    "            assert isinstance(self._raw_labels, np.ndarray)\n",
    "            assert self._raw_labels[0] == self._raw_shape[0] # Same Batch size\n",
    "            assert self._raw_labels.dtype.type in [np.float32, np.int64, np.str_]\n",
    "            if self._raw_labels.dtype == np.int64:          # If one hot encoded\n",
    "                assert self._raw_labels.ndim == 1\n",
    "                assert np.all(self._raw_labels >= 0)\n",
    "        return self._raw_labels"
   ]
  },
  {
   "cell_type": "code",
   "execution_count": 64,
   "id": "691ed3b0",
   "metadata": {},
   "outputs": [
    {
     "data": {
      "text/plain": [
       "(array([2, 3]),)"
      ]
     },
     "execution_count": 64,
     "metadata": {},
     "output_type": "execute_result"
    }
   ],
   "source": [
    "labels = np.array([\n",
    "    \"a dog playing\",\n",
    "    \"a mountain landscape\",\n",
    "    \"a sketch of a robot\",\n",
    "    \"puppy\",\n",
    "], dtype=str)  # shape: [N]\n",
    "\n",
    "new_idcs = [labels == cl for cl in [\"a sketch of a robot\", \"puppy\"]] # new_idcs: [True, False, False...]\n",
    "new_idcs = np.sum(np.vstack(new_idcs), 0)                            # new_idcs: [1   , 0    , 0    ...]\n",
    "new_idcs = np.where(new_idcs)                                        # new_idcs: [2,3..]\n",
    "new_idcs"
   ]
  },
  {
   "cell_type": "code",
   "execution_count": 71,
   "id": "c052f398",
   "metadata": {},
   "outputs": [
    {
     "data": {
      "text/plain": [
       "numpy.ndarray"
      ]
     },
     "execution_count": 71,
     "metadata": {},
     "output_type": "execute_result"
    }
   ],
   "source": [
    "type(labels)"
   ]
  },
  {
   "cell_type": "code",
   "execution_count": 69,
   "id": "6b13e46e",
   "metadata": {},
   "outputs": [
    {
     "data": {
      "text/plain": [
       "array([], shape=(5, 0), dtype=float32)"
      ]
     },
     "execution_count": 69,
     "metadata": {},
     "output_type": "execute_result"
    }
   ],
   "source": [
    "np.zeros([5, 0], dtype=np.float32)"
   ]
  },
  {
   "cell_type": "code",
   "execution_count": null,
   "id": "55059f13",
   "metadata": {},
   "outputs": [
    {
     "data": {
      "text/plain": [
       "array([False, False,  True])"
      ]
     },
     "execution_count": 56,
     "metadata": {},
     "output_type": "execute_result"
    }
   ],
   "source": []
  }
 ],
 "metadata": {
  "kernelspec": {
   "display_name": "Python 3",
   "language": "python",
   "name": "python3"
  },
  "language_info": {
   "codemirror_mode": {
    "name": "ipython",
    "version": 3
   },
   "file_extension": ".py",
   "mimetype": "text/x-python",
   "name": "python",
   "nbconvert_exporter": "python",
   "pygments_lexer": "ipython3",
   "version": "3.11.5"
  }
 },
 "nbformat": 4,
 "nbformat_minor": 5
}
