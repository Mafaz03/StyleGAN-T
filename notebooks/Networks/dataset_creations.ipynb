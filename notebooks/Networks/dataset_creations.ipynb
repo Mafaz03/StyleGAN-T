{
 "cells": [
  {
   "cell_type": "code",
   "execution_count": 1,
   "id": "259ce820",
   "metadata": {},
   "outputs": [],
   "source": [
    "import os\n",
    "import zipfile\n",
    "import PIL.Image\n",
    "import json\n",
    "import copy\n",
    "from typing import IO, Optional, List, Tuple, Dict\n",
    "\n",
    "import numpy as np\n",
    "import torch\n",
    "from torch import nn\n",
    "\n",
    "from torch.utils.data import DataLoader, Dataset"
   ]
  },
  {
   "cell_type": "code",
   "execution_count": 120,
   "id": "4eb6ff11",
   "metadata": {},
   "outputs": [],
   "source": [
    "class MasterDataset(Dataset):\n",
    "    def __init__(self, \n",
    "                 name       : str,                     # Name of the Dataset\n",
    "                 raw_shape  : List,                    # Raw shape of the images [B, C, H, W]\n",
    "                 max_size   : Optional[int] = None,    # Artificially limit the size of the dataset. None = no limit. Applied before xflip.\n",
    "                 use_labels : bool = False,            # Enable conditioning labels? False = label dimension is zero.\n",
    "                 xflip      : bool = False,            # Artificially double the size of the dataset via x-flips. Applied after max_size.\n",
    "                 random_seed: Optional[int] = 1,       # Random seed to use when applying max_size.\n",
    "                 ):\n",
    "        super().__init__()\n",
    "        \n",
    "        self._name        = name\n",
    "        self._raw_shape   = list(raw_shape)\n",
    "        self._use_labels  = use_labels\n",
    "        self._raw_labels  = None\n",
    "        self._label_shape = None\n",
    "\n",
    "        self._raw_idx = np.arange(self._raw_shape[0], dtype = np.int64)\n",
    "        self._base_raw_idx = copy.deepcopy(self._raw_idx)\n",
    "        if (max_size is not None) and len(self._raw_shape[0]) > max_size:\n",
    "            np.random.RandomState(random_seed).shuffle(self._raw_idx)\n",
    "            self._raw_idx = np.sort(self._raw_idx[:max_size])\n",
    "\n",
    "        self.xflip = np.zeros_like(self._raw_idx)       # self.xflip:   [0, 1, 2...]\n",
    "        if xflip:\n",
    "            self._raw_idx = np.tile(self._raw_idx, 2)   # 2; Doubling Dataset\n",
    "                                                        # self._raw_idx: [0, 1, 2.. , 0, 1, 2...]\n",
    "            self.xflip = np.concatenate((self.xflip, np.ones_like(self._raw_idx)))\n",
    "                                                        # self.xflip: [0, 0, 0.. , 1, 1, 1...]\n",
    "\n",
    "    def set_dynamic_lenght(self, new_len: int):\n",
    "        self._raw_idx = self._base_raw_idx[:new_len]\n",
    "\n",
    "    def _load_raw_labels():\n",
    "        # This must be Implmented later on with different class\n",
    "        raise NotImplemented\n",
    "    \n",
    "    def _load_raw_image(self, raw_idx: int) -> None: # to be overridden by subclass\n",
    "        raise NotImplementedError\n",
    "    \n",
    "    def close(self) -> None: # to be overridden by subclass\n",
    "        pass\n",
    "\n",
    "    def __del__(self) -> None:\n",
    "        try:\n",
    "            self.close()\n",
    "        except:\n",
    "            pass\n",
    "\n",
    "    def __getstate__(self) -> dict:\n",
    "        return dict(self.__dict__, _raw_labels=None)\n",
    "    \n",
    "    def set_class(self, cls_list: List) -> None:\n",
    "        self._raw_labels = self._load_raw_labels()  \n",
    "        print(self._raw_labels)\n",
    "        new_idcs = [self._raw_labels == cl for cl in cls_list]\n",
    "        \n",
    "        new_idcs = [self._raw_labels == cl for cl in cls_list]     # new_idcs: [True, False, False...]\n",
    "        new_idcs = np.sum(np.vstack(new_idcs), 0)                  # new_idcs: [1   , 0    , 0    ...]\n",
    "        new_idcs = np.where(new_idcs)                              # new_idcs: [2,3..]\n",
    "\n",
    "        self._raw_idx = self._base_raw_idx[new_idcs]\n",
    "        assert all(sorted(cls_list) == np.unique(self._raw_labels[self._raw_idx])) # cls_list == unique labels\n",
    "        print(f\"Training on the following classes: {cls_list}\")\n",
    "    \n",
    "    def _get_raw_labels(self) -> np.ndarray:\n",
    "        if self._raw_labels is None:\n",
    "            self._raw_labels = self._load_raw_labels() if self._use_labels else None\n",
    "            if self._raw_labels is None:\n",
    "                self._raw_labels = np.zeros([self._raw_shape[0], 0], dtype=np.float32)\n",
    "\n",
    "            assert isinstance(self._raw_labels, np.ndarray)\n",
    "            assert self._raw_labels[0] == self._raw_shape[0] # Same Batch size\n",
    "            assert self._raw_labels.dtype.type in [np.float32, np.int64, np.str_]\n",
    "            if self._raw_labels.dtype == np.int64:          # If one hot encoded\n",
    "                assert self._raw_labels.ndim == 1\n",
    "                assert np.all(self._raw_labels >= 0)\n",
    "        return self._raw_labels\n",
    "    \n",
    "    def __len__(self) -> int:\n",
    "        return self._raw_idx.shape\n",
    "    \n",
    "    def get_label(self, idx: int) -> Tuple[np.ndarray, np.ndarray]:\n",
    "        label = self._get_raw_labels()[self._raw_idx[idx]]\n",
    "        if label.dtype == np.int64:\n",
    "            one_hot = np.zeros(self._label_shape, dtype=np.float32)\n",
    "            one_hot[label] = 1\n",
    "            label = one_hot\n",
    "        assert isinstance(label, np.ndarray)\n",
    "        return label.copy()\n",
    "    \n",
    "    def __getitem__(self, idx: int) -> Tuple[np.ndarray, np.ndarray]:\n",
    "        print(\"wow0\")\n",
    "        image = self._load_raw_image([self._raw_idx[idx]])\n",
    "        if self.xflip[idx]:              # if xflip[idx] is 1; refer line 28\n",
    "            assert image.ndim == 3       #[C, H, W]\n",
    "            image = image[:, : , ::-1]   # reverses the Width; flips it\n",
    "        assert isinstance(image, np.ndarray)\n",
    "        assert image.dtype == np.uint8\n",
    "        print(\"wow\")\n",
    "        return image.copy(), self.get_label(idx)\n",
    "    \n",
    "    def get_details(self, idx: int) -> Dict:\n",
    "        d = {}\n",
    "        d[\"raw_idx\"] = int(self._raw_idx[idx])\n",
    "        d[\"xflip\"] = int(self.xflip[idx] != 0)\n",
    "        d[\"raw_label\"] = self._get_raw_labels()[self._raw_idx[idx]].copy()\n",
    "        return d\n",
    "    \n",
    "    @property\n",
    "    def name(self) -> str:\n",
    "        return self._name\n",
    "\n",
    "    @property\n",
    "    def image_shape(self) -> list:\n",
    "        return list(self._raw_shape[1:])\n",
    "\n",
    "    @property\n",
    "    def num_channels(self) -> int:\n",
    "        assert len(self.image_shape) == 3 # CHW\n",
    "        return self.image_shape[0]\n",
    "    \n",
    "    @property\n",
    "    def label_shape(self) -> List:\n",
    "        if self._label_shape is None:\n",
    "            raw_labels = self._get_raw_labels()\n",
    "            if isinstance(raw_labels, dict):\n",
    "                self._label_shape = [1]\n",
    "            \n",
    "            elif isinstance(raw_labels, np.int64):\n",
    "                self._label_shape = [1 + np.max(raw_labels)]\n",
    "\n",
    "            elif isinstance(raw_labels, np.str_):\n",
    "                self._label_shape = [1]\n",
    "\n",
    "            else:\n",
    "                self._label_shape = raw_labels.shape[1:]\n",
    "        return list(self._label_shape)\n",
    "    \n",
    "    @property\n",
    "    def label_dim(self) -> int:\n",
    "        assert len(self.label_shape) == 1\n",
    "        return self.label_shape[0]\n",
    "    \n",
    "    @property\n",
    "    def has_labels(self) -> bool:\n",
    "        return any(x != 0 for x in self.label_shape)\n",
    "    \n",
    "    @property\n",
    "    def labels_are_text(self) -> bool:\n",
    "        raw_labels = self._get_raw_labels()\n",
    "        if isinstance(raw_labels, dict):\n",
    "            return True  # TODO: dict = zip dataset, fix this\n",
    "        else:\n",
    "            return raw_labels.dtype.type == np.str_\n",
    "        \n",
    "    @property\n",
    "    def has_onehot_labels(self) -> bool:\n",
    "        return self._get_raw_labels().dtype == np.int64"
   ]
  },
  {
   "cell_type": "code",
   "execution_count": 192,
   "id": "2bc9e432",
   "metadata": {},
   "outputs": [],
   "source": [
    "class StyleDataset(MasterDataset):\n",
    "    def __init__(self, \n",
    "                 path      : str,                  # Path to directory or zip file\n",
    "                 resolution: Optional[int] = None, # resolution of image; None = highest available.\n",
    "                 **kwargs\n",
    "                 ):\n",
    "        # super().__init__()\n",
    "\n",
    "        self._path = path\n",
    "        self._zipfile = None\n",
    "        self.resolution = resolution\n",
    "        self.interpolated = False\n",
    "\n",
    "        # os.walk           -> [root, director, files]\n",
    "        # os.path.relpath   -> returns relative path (from current directory)\n",
    "\n",
    "        if os.path.isdir(self._path):\n",
    "            self._type = \"dir\"\n",
    "            self._all_fnames = {os.path.relpath(os.path.join(root, fname))\n",
    "                                for root, _, files in os.walk(self._path)\n",
    "                                for fname in files}\n",
    "                                # This will get all director and subdirectory's realive path iteratively\n",
    "            self._all_fnames = ['/'.join(f.split('/')[1:]) for f in self._all_fnames]\n",
    "            print(self._all_fnames)\n",
    "        elif self._file_ext(self._path) == \".zip\":\n",
    "            self._type == \"zip\"\n",
    "            self._all_fnames = set(self._get_zipfile().namelist())\n",
    "        else:\n",
    "            raise IOError('Path must point to a directory or zip')\n",
    "        \n",
    "        PIL.Image.init()\n",
    "        self._image_fnames = sorted(fname for fname in self._all_fnames if self._file_ext(fname) in PIL.Image.EXTENSION)\n",
    "        if len(self._image_fnames) == 0: raise IOError(\"No images found in this directory\")\n",
    "        \n",
    "        name = os.path.splitext(os.path.basename(self._path))[0] # Basically from \".../Networks/dataset.zip\" -> \"dataset\"; if zip\n",
    "                                                                    #             or \".../Networks/dataset\"     -> \"dataset\"; if dir\n",
    "        raw_shape = [len(self._image_fnames)] + list(self._load_raw_image(0).shape)  # [B, C, H, W]\n",
    "        if resolution is not None and (raw_shape[2] != resolution or raw_shape[3] != resolution):\n",
    "            self.interpolate = True\n",
    "        super().__init__(name=name, raw_shape=raw_shape, **kwargs)\n",
    "\n",
    "    @staticmethod\n",
    "    def _file_ext(fname: str) -> str:\n",
    "        # gets the format, ex: .zip, .png etc\n",
    "        return os.path.splitext(fname)[1].lower() \n",
    "    \n",
    "    def _get_zipfile(self) -> zipfile.ZipFile:\n",
    "        assert self._type == \".zip\"\n",
    "        if self._zipfile is None:\n",
    "            self._zipfile = zipfile.ZipFile(self._path)\n",
    "        return self._zipfile\n",
    "    \n",
    "    def _open_file(self, fname: str) -> PIL.Image:\n",
    "        if self._type == 'dir':\n",
    "            print(self._path)\n",
    "            print(fname)\n",
    "            return open((self._path + fname), \"rb\")\n",
    "        if self._type == 'zip':\n",
    "            return self._get_zipfile().open(fname, 'r') # zipfile.ZipFile.open() returns a binary file-like object by default\n",
    "        return None\n",
    "    \n",
    "    def _close_file(self) -> None:\n",
    "        try:\n",
    "            if self._zipfile is not None:\n",
    "                self._zipfile.close()\n",
    "        finally:\n",
    "            self._zipfile = None\n",
    "\n",
    "    @staticmethod\n",
    "    def scale(width: int, height: int, img: np.ndarray) -> np.ndarray:\n",
    "        # img: [H, W, C]\n",
    "        h = img.shape[0]\n",
    "        w = img.shape[1]\n",
    "\n",
    "        if width == h and height == h: return img\n",
    "        ww = width if width is not None else w\n",
    "        hh = height if height is not None else h\n",
    "\n",
    "        img = img.resize((ww, hh), PIL.Image.LANCZOS)\n",
    "        return np.array(img)\n",
    "\n",
    "    def _load_raw_image(self, raw_idx: int) -> np.ndarray:\n",
    "        fname = self._image_fnames[raw_idx]\n",
    "        with self._open_file(fname) as f:\n",
    "            image = np.array(PIL.Image.open(f))\n",
    "        \n",
    "        if self.interpolated:\n",
    "            image = self.scale(self.resolution, self.resolution, image)\n",
    "\n",
    "        if image.ndim == 2:\n",
    "            image = image[:, :, np.newaxis] # [H, W] -> [H, W, C=1]; Grayscale image\n",
    "\n",
    "        image = image.transpose(2, 0, 1)    # [C, H, W]\n",
    "        return image\n",
    "    \n",
    "    def _load_raw_labels(self) -> np.ndarray:\n",
    "        print(\"Loading raw Labels\")\n",
    "        fname = \"data.json\"\n",
    "        # print(self._all_fnames)\n",
    "        if fname not in self._all_fnames: return None\n",
    "        print(fname)\n",
    "        with self._open_file(fname) as f:\n",
    "            print(f)\n",
    "            print(\"---\")\n",
    "            content = f.read()\n",
    "            print(\"CONTENT:\", content)\n",
    "            print(json.load(f))\n",
    "            print(\"---\")\n",
    "            labels = json.load(f)['labels']\n",
    "        print(\"haha\")\n",
    "        if labels is None: return None\n",
    "        labels = np.array(dict(labels))\n",
    "\n",
    "        if isinstance(labels[0], str): return labels\n",
    "\n",
    "        labels = labels.astype({1: np.int64, 2: np.float32}[labels.ndim])\n",
    "        return labels"
   ]
  },
  {
   "cell_type": "code",
   "execution_count": 193,
   "id": "9871ee3c",
   "metadata": {},
   "outputs": [
    {
     "name": "stdout",
     "output_type": "stream",
     "text": [
      "['data.json', '.DS_Store', 'Dubai copy 2.jpg', 'Dubai copy.jpg']\n",
      "/Users/mohamedmafaz/Desktop/StyleGAN-T/notebooks/Networks/dataset/\n",
      "Dubai copy 2.jpg\n",
      "Loading raw Labels\n",
      "data.json\n",
      "/Users/mohamedmafaz/Desktop/StyleGAN-T/notebooks/Networks/dataset/\n",
      "data.json\n",
      "<_io.BufferedReader name='/Users/mohamedmafaz/Desktop/StyleGAN-T/notebooks/Networks/dataset/data.json'>\n",
      "---\n",
      "CONTENT: b'{\\n  \"labels\": {\\n    \"0\": \"Dubai\",\\n    \"1\": \"Dubai2\"\\n  }\\n}'\n"
     ]
    },
    {
     "ename": "JSONDecodeError",
     "evalue": "Expecting value: line 1 column 1 (char 0)",
     "output_type": "error",
     "traceback": [
      "\u001b[0;31m---------------------------------------------------------------------------\u001b[0m",
      "\u001b[0;31mJSONDecodeError\u001b[0m                           Traceback (most recent call last)",
      "Cell \u001b[0;32mIn[193], line 2\u001b[0m\n\u001b[1;32m      1\u001b[0m sd \u001b[38;5;241m=\u001b[39m StyleDataset(path\u001b[38;5;241m=\u001b[39m\u001b[38;5;124m\"\u001b[39m\u001b[38;5;124m/Users/mohamedmafaz/Desktop/StyleGAN-T/notebooks/Networks/dataset/\u001b[39m\u001b[38;5;124m\"\u001b[39m)\n\u001b[0;32m----> 2\u001b[0m \u001b[43msd\u001b[49m\u001b[38;5;241;43m.\u001b[39;49m\u001b[43mset_class\u001b[49m\u001b[43m(\u001b[49m\u001b[43m[\u001b[49m\u001b[38;5;124;43m\"\u001b[39;49m\u001b[38;5;124;43mDubai copy\u001b[39;49m\u001b[38;5;124;43m\"\u001b[39;49m\u001b[43m]\u001b[49m\u001b[43m)\u001b[49m\n\u001b[1;32m      3\u001b[0m \u001b[38;5;66;03m# sdl = DataLoader(sd, 2)\u001b[39;00m\n\u001b[1;32m      4\u001b[0m \u001b[38;5;66;03m# for i in sdl:\u001b[39;00m\n\u001b[1;32m      5\u001b[0m \u001b[38;5;66;03m#     print(i)\u001b[39;00m\n",
      "Cell \u001b[0;32mIn[120], line 54\u001b[0m, in \u001b[0;36mMasterDataset.set_class\u001b[0;34m(self, cls_list)\u001b[0m\n\u001b[1;32m     53\u001b[0m \u001b[38;5;28;01mdef\u001b[39;00m \u001b[38;5;21mset_class\u001b[39m(\u001b[38;5;28mself\u001b[39m, cls_list: List) \u001b[38;5;241m-\u001b[39m\u001b[38;5;241m>\u001b[39m \u001b[38;5;28;01mNone\u001b[39;00m:\n\u001b[0;32m---> 54\u001b[0m     \u001b[38;5;28mself\u001b[39m\u001b[38;5;241m.\u001b[39m_raw_labels \u001b[38;5;241m=\u001b[39m \u001b[38;5;28;43mself\u001b[39;49m\u001b[38;5;241;43m.\u001b[39;49m\u001b[43m_load_raw_labels\u001b[49m\u001b[43m(\u001b[49m\u001b[43m)\u001b[49m  \n\u001b[1;32m     55\u001b[0m     \u001b[38;5;28mprint\u001b[39m(\u001b[38;5;28mself\u001b[39m\u001b[38;5;241m.\u001b[39m_raw_labels)\n\u001b[1;32m     56\u001b[0m     new_idcs \u001b[38;5;241m=\u001b[39m [\u001b[38;5;28mself\u001b[39m\u001b[38;5;241m.\u001b[39m_raw_labels \u001b[38;5;241m==\u001b[39m cl \u001b[38;5;28;01mfor\u001b[39;00m cl \u001b[38;5;129;01min\u001b[39;00m cls_list]\n",
      "Cell \u001b[0;32mIn[192], line 107\u001b[0m, in \u001b[0;36mStyleDataset._load_raw_labels\u001b[0;34m(self)\u001b[0m\n\u001b[1;32m    105\u001b[0m content \u001b[38;5;241m=\u001b[39m f\u001b[38;5;241m.\u001b[39mread()\n\u001b[1;32m    106\u001b[0m \u001b[38;5;28mprint\u001b[39m(\u001b[38;5;124m\"\u001b[39m\u001b[38;5;124mCONTENT:\u001b[39m\u001b[38;5;124m\"\u001b[39m, content)\n\u001b[0;32m--> 107\u001b[0m \u001b[38;5;28mprint\u001b[39m(\u001b[43mjson\u001b[49m\u001b[38;5;241;43m.\u001b[39;49m\u001b[43mload\u001b[49m\u001b[43m(\u001b[49m\u001b[43mf\u001b[49m\u001b[43m)\u001b[49m)\n\u001b[1;32m    108\u001b[0m \u001b[38;5;28mprint\u001b[39m(\u001b[38;5;124m\"\u001b[39m\u001b[38;5;124m---\u001b[39m\u001b[38;5;124m\"\u001b[39m)\n\u001b[1;32m    109\u001b[0m labels \u001b[38;5;241m=\u001b[39m json\u001b[38;5;241m.\u001b[39mload(f)[\u001b[38;5;124m'\u001b[39m\u001b[38;5;124mlabels\u001b[39m\u001b[38;5;124m'\u001b[39m]\n",
      "File \u001b[0;32m/Library/Frameworks/Python.framework/Versions/3.11/lib/python3.11/json/__init__.py:293\u001b[0m, in \u001b[0;36mload\u001b[0;34m(fp, cls, object_hook, parse_float, parse_int, parse_constant, object_pairs_hook, **kw)\u001b[0m\n\u001b[1;32m    274\u001b[0m \u001b[38;5;28;01mdef\u001b[39;00m \u001b[38;5;21mload\u001b[39m(fp, \u001b[38;5;241m*\u001b[39m, \u001b[38;5;28mcls\u001b[39m\u001b[38;5;241m=\u001b[39m\u001b[38;5;28;01mNone\u001b[39;00m, object_hook\u001b[38;5;241m=\u001b[39m\u001b[38;5;28;01mNone\u001b[39;00m, parse_float\u001b[38;5;241m=\u001b[39m\u001b[38;5;28;01mNone\u001b[39;00m,\n\u001b[1;32m    275\u001b[0m         parse_int\u001b[38;5;241m=\u001b[39m\u001b[38;5;28;01mNone\u001b[39;00m, parse_constant\u001b[38;5;241m=\u001b[39m\u001b[38;5;28;01mNone\u001b[39;00m, object_pairs_hook\u001b[38;5;241m=\u001b[39m\u001b[38;5;28;01mNone\u001b[39;00m, \u001b[38;5;241m*\u001b[39m\u001b[38;5;241m*\u001b[39mkw):\n\u001b[1;32m    276\u001b[0m \u001b[38;5;250m    \u001b[39m\u001b[38;5;124;03m\"\"\"Deserialize ``fp`` (a ``.read()``-supporting file-like object containing\u001b[39;00m\n\u001b[1;32m    277\u001b[0m \u001b[38;5;124;03m    a JSON document) to a Python object.\u001b[39;00m\n\u001b[1;32m    278\u001b[0m \n\u001b[0;32m   (...)\u001b[0m\n\u001b[1;32m    291\u001b[0m \u001b[38;5;124;03m    kwarg; otherwise ``JSONDecoder`` is used.\u001b[39;00m\n\u001b[1;32m    292\u001b[0m \u001b[38;5;124;03m    \"\"\"\u001b[39;00m\n\u001b[0;32m--> 293\u001b[0m     \u001b[38;5;28;01mreturn\u001b[39;00m \u001b[43mloads\u001b[49m\u001b[43m(\u001b[49m\u001b[43mfp\u001b[49m\u001b[38;5;241;43m.\u001b[39;49m\u001b[43mread\u001b[49m\u001b[43m(\u001b[49m\u001b[43m)\u001b[49m\u001b[43m,\u001b[49m\n\u001b[1;32m    294\u001b[0m \u001b[43m        \u001b[49m\u001b[38;5;28;43mcls\u001b[39;49m\u001b[38;5;241;43m=\u001b[39;49m\u001b[38;5;28;43mcls\u001b[39;49m\u001b[43m,\u001b[49m\u001b[43m \u001b[49m\u001b[43mobject_hook\u001b[49m\u001b[38;5;241;43m=\u001b[39;49m\u001b[43mobject_hook\u001b[49m\u001b[43m,\u001b[49m\n\u001b[1;32m    295\u001b[0m \u001b[43m        \u001b[49m\u001b[43mparse_float\u001b[49m\u001b[38;5;241;43m=\u001b[39;49m\u001b[43mparse_float\u001b[49m\u001b[43m,\u001b[49m\u001b[43m \u001b[49m\u001b[43mparse_int\u001b[49m\u001b[38;5;241;43m=\u001b[39;49m\u001b[43mparse_int\u001b[49m\u001b[43m,\u001b[49m\n\u001b[1;32m    296\u001b[0m \u001b[43m        \u001b[49m\u001b[43mparse_constant\u001b[49m\u001b[38;5;241;43m=\u001b[39;49m\u001b[43mparse_constant\u001b[49m\u001b[43m,\u001b[49m\u001b[43m \u001b[49m\u001b[43mobject_pairs_hook\u001b[49m\u001b[38;5;241;43m=\u001b[39;49m\u001b[43mobject_pairs_hook\u001b[49m\u001b[43m,\u001b[49m\u001b[43m \u001b[49m\u001b[38;5;241;43m*\u001b[39;49m\u001b[38;5;241;43m*\u001b[39;49m\u001b[43mkw\u001b[49m\u001b[43m)\u001b[49m\n",
      "File \u001b[0;32m/Library/Frameworks/Python.framework/Versions/3.11/lib/python3.11/json/__init__.py:346\u001b[0m, in \u001b[0;36mloads\u001b[0;34m(s, cls, object_hook, parse_float, parse_int, parse_constant, object_pairs_hook, **kw)\u001b[0m\n\u001b[1;32m    341\u001b[0m     s \u001b[38;5;241m=\u001b[39m s\u001b[38;5;241m.\u001b[39mdecode(detect_encoding(s), \u001b[38;5;124m'\u001b[39m\u001b[38;5;124msurrogatepass\u001b[39m\u001b[38;5;124m'\u001b[39m)\n\u001b[1;32m    343\u001b[0m \u001b[38;5;28;01mif\u001b[39;00m (\u001b[38;5;28mcls\u001b[39m \u001b[38;5;129;01mis\u001b[39;00m \u001b[38;5;28;01mNone\u001b[39;00m \u001b[38;5;129;01mand\u001b[39;00m object_hook \u001b[38;5;129;01mis\u001b[39;00m \u001b[38;5;28;01mNone\u001b[39;00m \u001b[38;5;129;01mand\u001b[39;00m\n\u001b[1;32m    344\u001b[0m         parse_int \u001b[38;5;129;01mis\u001b[39;00m \u001b[38;5;28;01mNone\u001b[39;00m \u001b[38;5;129;01mand\u001b[39;00m parse_float \u001b[38;5;129;01mis\u001b[39;00m \u001b[38;5;28;01mNone\u001b[39;00m \u001b[38;5;129;01mand\u001b[39;00m\n\u001b[1;32m    345\u001b[0m         parse_constant \u001b[38;5;129;01mis\u001b[39;00m \u001b[38;5;28;01mNone\u001b[39;00m \u001b[38;5;129;01mand\u001b[39;00m object_pairs_hook \u001b[38;5;129;01mis\u001b[39;00m \u001b[38;5;28;01mNone\u001b[39;00m \u001b[38;5;129;01mand\u001b[39;00m \u001b[38;5;129;01mnot\u001b[39;00m kw):\n\u001b[0;32m--> 346\u001b[0m     \u001b[38;5;28;01mreturn\u001b[39;00m \u001b[43m_default_decoder\u001b[49m\u001b[38;5;241;43m.\u001b[39;49m\u001b[43mdecode\u001b[49m\u001b[43m(\u001b[49m\u001b[43ms\u001b[49m\u001b[43m)\u001b[49m\n\u001b[1;32m    347\u001b[0m \u001b[38;5;28;01mif\u001b[39;00m \u001b[38;5;28mcls\u001b[39m \u001b[38;5;129;01mis\u001b[39;00m \u001b[38;5;28;01mNone\u001b[39;00m:\n\u001b[1;32m    348\u001b[0m     \u001b[38;5;28mcls\u001b[39m \u001b[38;5;241m=\u001b[39m JSONDecoder\n",
      "File \u001b[0;32m/Library/Frameworks/Python.framework/Versions/3.11/lib/python3.11/json/decoder.py:337\u001b[0m, in \u001b[0;36mJSONDecoder.decode\u001b[0;34m(self, s, _w)\u001b[0m\n\u001b[1;32m    332\u001b[0m \u001b[38;5;28;01mdef\u001b[39;00m \u001b[38;5;21mdecode\u001b[39m(\u001b[38;5;28mself\u001b[39m, s, _w\u001b[38;5;241m=\u001b[39mWHITESPACE\u001b[38;5;241m.\u001b[39mmatch):\n\u001b[1;32m    333\u001b[0m \u001b[38;5;250m    \u001b[39m\u001b[38;5;124;03m\"\"\"Return the Python representation of ``s`` (a ``str`` instance\u001b[39;00m\n\u001b[1;32m    334\u001b[0m \u001b[38;5;124;03m    containing a JSON document).\u001b[39;00m\n\u001b[1;32m    335\u001b[0m \n\u001b[1;32m    336\u001b[0m \u001b[38;5;124;03m    \"\"\"\u001b[39;00m\n\u001b[0;32m--> 337\u001b[0m     obj, end \u001b[38;5;241m=\u001b[39m \u001b[38;5;28;43mself\u001b[39;49m\u001b[38;5;241;43m.\u001b[39;49m\u001b[43mraw_decode\u001b[49m\u001b[43m(\u001b[49m\u001b[43ms\u001b[49m\u001b[43m,\u001b[49m\u001b[43m \u001b[49m\u001b[43midx\u001b[49m\u001b[38;5;241;43m=\u001b[39;49m\u001b[43m_w\u001b[49m\u001b[43m(\u001b[49m\u001b[43ms\u001b[49m\u001b[43m,\u001b[49m\u001b[43m \u001b[49m\u001b[38;5;241;43m0\u001b[39;49m\u001b[43m)\u001b[49m\u001b[38;5;241;43m.\u001b[39;49m\u001b[43mend\u001b[49m\u001b[43m(\u001b[49m\u001b[43m)\u001b[49m\u001b[43m)\u001b[49m\n\u001b[1;32m    338\u001b[0m     end \u001b[38;5;241m=\u001b[39m _w(s, end)\u001b[38;5;241m.\u001b[39mend()\n\u001b[1;32m    339\u001b[0m     \u001b[38;5;28;01mif\u001b[39;00m end \u001b[38;5;241m!=\u001b[39m \u001b[38;5;28mlen\u001b[39m(s):\n",
      "File \u001b[0;32m/Library/Frameworks/Python.framework/Versions/3.11/lib/python3.11/json/decoder.py:355\u001b[0m, in \u001b[0;36mJSONDecoder.raw_decode\u001b[0;34m(self, s, idx)\u001b[0m\n\u001b[1;32m    353\u001b[0m     obj, end \u001b[38;5;241m=\u001b[39m \u001b[38;5;28mself\u001b[39m\u001b[38;5;241m.\u001b[39mscan_once(s, idx)\n\u001b[1;32m    354\u001b[0m \u001b[38;5;28;01mexcept\u001b[39;00m \u001b[38;5;167;01mStopIteration\u001b[39;00m \u001b[38;5;28;01mas\u001b[39;00m err:\n\u001b[0;32m--> 355\u001b[0m     \u001b[38;5;28;01mraise\u001b[39;00m JSONDecodeError(\u001b[38;5;124m\"\u001b[39m\u001b[38;5;124mExpecting value\u001b[39m\u001b[38;5;124m\"\u001b[39m, s, err\u001b[38;5;241m.\u001b[39mvalue) \u001b[38;5;28;01mfrom\u001b[39;00m \u001b[38;5;28;01mNone\u001b[39;00m\n\u001b[1;32m    356\u001b[0m \u001b[38;5;28;01mreturn\u001b[39;00m obj, end\n",
      "\u001b[0;31mJSONDecodeError\u001b[0m: Expecting value: line 1 column 1 (char 0)"
     ]
    }
   ],
   "source": [
    "sd = StyleDataset(path=\"/Users/mohamedmafaz/Desktop/StyleGAN-T/notebooks/Networks/dataset/\")\n",
    "sd.set_class([\"Dubai copy\"])\n",
    "# sdl = DataLoader(sd, 2)\n",
    "# for i in sdl:\n",
    "#     print(i)"
   ]
  },
  {
   "cell_type": "code",
   "execution_count": 167,
   "id": "5b110d5d",
   "metadata": {},
   "outputs": [
    {
     "name": "stdout",
     "output_type": "stream",
     "text": [
      "/Users/mohamedmafaz/Desktop/StyleGAN-T/notebooks/Networks/dataset/\n",
      "/data.json\n"
     ]
    },
    {
     "data": {
      "text/plain": [
       "{'labels': {'0': 'Dubai', '1': 'Dubai2'}}"
      ]
     },
     "execution_count": 167,
     "metadata": {},
     "output_type": "execute_result"
    }
   ],
   "source": [
    "with sd._open_file(\"/data.json\") as f:\n",
    "    data = json.load(f)\n",
    "data"
   ]
  },
  {
   "cell_type": "code",
   "execution_count": 158,
   "id": "d0bc3f20",
   "metadata": {},
   "outputs": [
    {
     "data": {
      "text/plain": [
       "{'0': 1, '1': 2}"
      ]
     },
     "execution_count": 158,
     "metadata": {},
     "output_type": "execute_result"
    }
   ],
   "source": [
    "with open(\"/Users/mohamedmafaz/Desktop/StyleGAN-T/notebooks/Networks/dataset/data.json\", \"rb\") as f:\n",
    "    a = json.load(f)\n",
    "a[\"labels\"]"
   ]
  },
  {
   "cell_type": "code",
   "execution_count": 25,
   "id": "75537772",
   "metadata": {},
   "outputs": [
    {
     "data": {
      "text/plain": [
       "'.jpg'"
      ]
     },
     "execution_count": 25,
     "metadata": {},
     "output_type": "execute_result"
    }
   ],
   "source": [
    "StyleDataset._file_ext(\"dataset/dataset 2/Dubai copy.jpg\")"
   ]
  },
  {
   "cell_type": "code",
   "execution_count": 5,
   "id": "eb05c946",
   "metadata": {},
   "outputs": [
    {
     "data": {
      "text/plain": [
       "{'filename': 'cat1.jpg', 'label': 'cat'}"
      ]
     },
     "execution_count": 5,
     "metadata": {},
     "output_type": "execute_result"
    }
   ],
   "source": [
    "with open('/Users/mohamedmafaz/Desktop/StyleGAN-T/notebooks/Networks/dataset/data.json', 'r') as f:\n",
    "    data = json.load(f)\n",
    "data[0]"
   ]
  },
  {
   "cell_type": "code",
   "execution_count": 6,
   "id": "4625412e",
   "metadata": {},
   "outputs": [
    {
     "data": {
      "text/plain": [
       "['dataset/',\n",
       " 'dataset/Dubai copy.jpg',\n",
       " '__MACOSX/dataset/._Dubai copy.jpg',\n",
       " 'dataset/.DS_Store',\n",
       " '__MACOSX/dataset/._.DS_Store',\n",
       " 'dataset/dataset 2/',\n",
       " 'dataset/Dubai copy 2.jpg',\n",
       " '__MACOSX/dataset/._Dubai copy 2.jpg',\n",
       " 'dataset/dataset 2/Dubai copy.jpg',\n",
       " '__MACOSX/dataset/dataset 2/._Dubai copy.jpg',\n",
       " 'dataset/dataset 2/.DS_Store',\n",
       " '__MACOSX/dataset/dataset 2/._.DS_Store',\n",
       " 'dataset/dataset 2/Dubai copy 2.jpg',\n",
       " '__MACOSX/dataset/dataset 2/._Dubai copy 2.jpg']"
      ]
     },
     "execution_count": 6,
     "metadata": {},
     "output_type": "execute_result"
    }
   ],
   "source": [
    "zipfile.ZipFile(\"/Users/mohamedmafaz/Desktop/StyleGAN-T/notebooks/Networks/dataset.zip\").namelist()"
   ]
  },
  {
   "cell_type": "code",
   "execution_count": 7,
   "id": "29eb1aef",
   "metadata": {},
   "outputs": [
    {
     "name": "stdout",
     "output_type": "stream",
     "text": [
      "('/Users/mohamedmafaz/Desktop/StyleGAN-T/notebooks/Networks/dataset', ['dataset 2'], ['Dubai copy.jpg', '.DS_Store', 'data.json', 'Dubai copy 2.jpg'])\n",
      "('/Users/mohamedmafaz/Desktop/StyleGAN-T/notebooks/Networks/dataset/dataset 2', [], ['Dubai copy.jpg', '.DS_Store', 'Dubai copy 2.jpg'])\n"
     ]
    }
   ],
   "source": [
    "for i in os.walk(\"/Users/mohamedmafaz/Desktop/StyleGAN-T/notebooks/Networks/dataset\"):\n",
    "    print(i)"
   ]
  },
  {
   "cell_type": "code",
   "execution_count": 8,
   "id": "691ed3b0",
   "metadata": {},
   "outputs": [
    {
     "data": {
      "text/plain": [
       "(array([2, 3]),)"
      ]
     },
     "execution_count": 8,
     "metadata": {},
     "output_type": "execute_result"
    }
   ],
   "source": [
    "labels = np.array([\n",
    "    \"a dog playing\",\n",
    "    \"a mountain landscape\",\n",
    "    \"a sketch of a robot\",\n",
    "    \"puppy\",\n",
    "], dtype=str)  # shape: [N]\n",
    "\n",
    "new_idcs = [labels == cl for cl in [\"a sketch of a robot\", \"puppy\"]] # new_idcs: [True, False, False...]\n",
    "new_idcs = np.sum(np.vstack(new_idcs), 0)                            # new_idcs: [1   , 0    , 0    ...]\n",
    "new_idcs = np.where(new_idcs)                                        # new_idcs: [2,3..]\n",
    "new_idcs"
   ]
  },
  {
   "cell_type": "code",
   "execution_count": 9,
   "id": "c052f398",
   "metadata": {},
   "outputs": [
    {
     "data": {
      "text/plain": [
       "False"
      ]
     },
     "execution_count": 9,
     "metadata": {},
     "output_type": "execute_result"
    }
   ],
   "source": [
    "isinstance(labels.dtype, np.str_)"
   ]
  },
  {
   "cell_type": "code",
   "execution_count": 10,
   "id": "6b13e46e",
   "metadata": {},
   "outputs": [
    {
     "data": {
      "text/plain": [
       "array([], shape=(5, 0), dtype=float32)"
      ]
     },
     "execution_count": 10,
     "metadata": {},
     "output_type": "execute_result"
    }
   ],
   "source": [
    "np.zeros([5, 0], dtype=np.float32)"
   ]
  },
  {
   "cell_type": "code",
   "execution_count": null,
   "id": "55059f13",
   "metadata": {},
   "outputs": [],
   "source": []
  }
 ],
 "metadata": {
  "kernelspec": {
   "display_name": "Python 3",
   "language": "python",
   "name": "python3"
  },
  "language_info": {
   "codemirror_mode": {
    "name": "ipython",
    "version": 3
   },
   "file_extension": ".py",
   "mimetype": "text/x-python",
   "name": "python",
   "nbconvert_exporter": "python",
   "pygments_lexer": "ipython3",
   "version": "3.11.5"
  }
 },
 "nbformat": 4,
 "nbformat_minor": 5
}
