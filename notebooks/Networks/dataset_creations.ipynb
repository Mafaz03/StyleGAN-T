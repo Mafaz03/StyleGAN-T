{
 "cells": [
  {
   "cell_type": "code",
   "execution_count": 1,
   "id": "259ce820",
   "metadata": {},
   "outputs": [],
   "source": [
    "import os\n",
    "import zipfile\n",
    "import PIL.Image\n",
    "import json\n",
    "import copy\n",
    "from typing import IO, Optional, List, Tuple, Dict\n",
    "\n",
    "import numpy as np\n",
    "import torch\n",
    "from torch import nn\n",
    "\n",
    "from torch.utils.data import DataLoader, Dataset"
   ]
  },
  {
   "cell_type": "code",
   "execution_count": 6,
   "id": "4eb6ff11",
   "metadata": {},
   "outputs": [],
   "source": [
    "class MasterDataset(Dataset):\n",
    "    def __init__(self, \n",
    "                 name       : str,                     # Name of the Dataset\n",
    "                 raw_shape  : List,                    # Raw shape of the images [B, C, H, W]\n",
    "                 max_size   : Optional[int] = None,    # Artificially limit the size of the dataset. None = no limit. Applied before xflip.\n",
    "                 use_labels : bool = False,            # Enable conditioning labels? False = label dimension is zero.\n",
    "                 xflip      : bool = False,            # Artificially double the size of the dataset via x-flips. Applied after max_size.\n",
    "                 random_seed: Optional[int] = 1,       # Random seed to use when applying max_size.\n",
    "                 ):\n",
    "        super().__init__()\n",
    "        \n",
    "        self._name        = name\n",
    "        self._raw_shape   = list(raw_shape)\n",
    "        self._use_labels  = use_labels\n",
    "        self._raw_labels  = None\n",
    "        self._label_shape = None\n",
    "\n",
    "        self._raw_idx = np.arange(self._raw_shape, dtype = np.int64)\n",
    "        self._base_raw_idx = copy.deepcopy(self._raw_idx)\n",
    "        if (max_size is not None) and len(self._raw_shape[0]) > max_size:\n",
    "            np.random.RandomState(random_seed).shuffle(self._raw_idx)\n",
    "            self._raw_idx = np.sort(self._raw_idx[:max_size])\n",
    "\n",
    "        self.xflip = np.zeros_like(self._raw_idx)       # self.xflip:   [0, 1, 2...]\n",
    "        if xflip:\n",
    "            self._raw_idx = np.tile(self._raw_idx, 2)   # 2; Doubling Dataset\n",
    "                                                        # self._raw_idx: [0, 1, 2.. , 0, 1, 2...]\n",
    "            self.xflip = np.concatenate((self.xflip, np.ones_like(self._raw_idx)))\n",
    "                                                        # self.xflip: [0, 0, 0.. , 1, 1, 1...]\n",
    "\n",
    "    def set_dynamic_lenght(self, new_len: int):\n",
    "        self._raw_idx = self._base_raw_idx[:new_len]\n",
    "\n",
    "    def _load_raw_labels():\n",
    "        # This must be Implmented later on with different class\n",
    "        raise NotImplemented\n",
    "    \n",
    "    def _load_raw_image(self, raw_idx: int) -> None: # to be overridden by subclass\n",
    "        raise NotImplementedError\n",
    "    \n",
    "    def close(self) -> None: # to be overridden by subclass\n",
    "        pass\n",
    "\n",
    "    def __del__(self) -> None:\n",
    "        try:\n",
    "            self.close()\n",
    "        except:\n",
    "            pass\n",
    "\n",
    "    def __getstate__(self) -> dict:\n",
    "        return dict(self.__dict__, _raw_labels=None)\n",
    "    \n",
    "    def set_class(self, cls_list: List) -> None:\n",
    "        self._raw_labels = self._load_raw_labels()  \n",
    "        new_idcs = [self._raw_labels == cl for cl in cls_list]\n",
    "        \n",
    "        new_idcs = [self._raw_labels == cl for cl in cls_list]     # new_idcs: [True, False, False...]\n",
    "        new_idcs = np.sum(np.vstack(new_idcs), 0)                  # new_idcs: [1   , 0    , 0    ...]\n",
    "        new_idcs = np.where(new_idcs)                              # new_idcs: [2,3..]\n",
    "\n",
    "        self._raw_idx = self._base_raw_idx[new_idcs]\n",
    "        assert all(sorted(cls_list) == np.unique(self._raw_labels[self._raw_idx])) # cls_list == unique labels\n",
    "        print(f\"Training on the following classes: {cls_list}\")\n",
    "    \n",
    "    def _get_raw_labels(self) -> np.ndarray:\n",
    "        if self._raw_labels is None:\n",
    "            self._raw_labels = self._load_raw_labels() if self._use_labels else None\n",
    "            if self._raw_labels is None:\n",
    "                self._raw_labels = np.zeros([self._raw_shape[0], 0], dtype=np.float32)\n",
    "\n",
    "            assert isinstance(self._raw_labels, np.ndarray)\n",
    "            assert self._raw_labels[0] == self._raw_shape[0] # Same Batch size\n",
    "            assert self._raw_labels.dtype.type in [np.float32, np.int64, np.str_]\n",
    "            if self._raw_labels.dtype == np.int64:          # If one hot encoded\n",
    "                assert self._raw_labels.ndim == 1\n",
    "                assert np.all(self._raw_labels >= 0)\n",
    "        return self._raw_labels\n",
    "    \n",
    "    def __len__(self) -> int:\n",
    "        return self._raw_idx.shape\n",
    "    \n",
    "    def get_label(self, idx: int) -> np.ndarray:\n",
    "        label = self._get_raw_labels()[self._raw_idx[idx]]\n",
    "        if label.dtype == np.int64:\n",
    "            one_hot = np.zeros(self._label_shape, dtype=np.float32)\n",
    "            one_hot[label] = 1\n",
    "            label = one_hot\n",
    "        assert isinstance(label, np.ndarray)\n",
    "        return label.copy()\n",
    "    \n",
    "    def __getitem__(self, idx: int) -> Tuple[np.ndarray, np.ndarray]:\n",
    "        image = self._load_raw_image()[self._raw_idx[idx]]\n",
    "        if self.xflip[idx]:  # if xflip[idx] is 1; refer line 28\n",
    "            assert image.ndim == 3 #[C, H, W]\n",
    "            image = image[:, : , ::-1]   # reverses the Width; flips it\n",
    "        assert isinstance(image, np.ndarray)\n",
    "        assert image.dtype == np.uint8\n",
    "\n",
    "        return image.copy(), self.get_label()(idx)\n",
    "    \n",
    "    def get_details(self, idx: int) -> Dict:\n",
    "        d = {}\n",
    "        d[\"raw_idx\"] = int(self._raw_idx[idx])\n",
    "        d[\"xflip\"] = int(self.xflip[idx] != 0)\n",
    "        d[\"raw_label\"] = self._get_raw_labels()[self._raw_idx[idx]].copy()\n",
    "        return d\n",
    "    \n",
    "    @property\n",
    "    def name(self) -> str:\n",
    "        return self._name\n",
    "\n",
    "    @property\n",
    "    def image_shape(self) -> list:\n",
    "        return list(self._raw_shape[1:])\n",
    "\n",
    "    @property\n",
    "    def num_channels(self) -> int:\n",
    "        assert len(self.image_shape) == 3 # CHW\n",
    "        return self.image_shape[0]\n",
    "    \n",
    "    @property\n",
    "    def label_shape(self) -> List:\n",
    "        if self._label_shape is None:\n",
    "            raw_labels = self._get_raw_labels()\n",
    "            if isinstance(raw_labels, dict):\n",
    "                self._label_shape = [1]\n",
    "            \n",
    "            elif isinstance(raw_labels, np.int64):\n",
    "                self._label_shape = [1 + np.max(raw_labels)]\n",
    "\n",
    "            elif isinstance(raw_labels, np.str_):\n",
    "                self._label_shape = [1]\n",
    "\n",
    "            else:\n",
    "                self._label_shape = raw_labels.shape[1:]\n",
    "        return list(self._label_shape)\n",
    "    \n",
    "    @property\n",
    "    def label_dim(self) -> int:\n",
    "        assert len(self.label_shape) == 1\n",
    "        return self.label_shape[0]\n",
    "    \n",
    "    @property\n",
    "    def has_labels(self) -> bool:\n",
    "        return any(x != 0 for x in self.label_shape)\n",
    "    \n",
    "    @property\n",
    "    def labels_are_text(self) -> bool:\n",
    "        raw_labels = self._get_raw_labels()\n",
    "        if isinstance(raw_labels, dict):\n",
    "            return True  # TODO: dict = zip dataset, fix this\n",
    "        else:\n",
    "            return raw_labels.dtype.type == np.str_\n",
    "        \n",
    "    @property\n",
    "    def has_onehot_labels(self) -> bool:\n",
    "        return self._get_raw_labels().dtype == np.int64"
   ]
  },
  {
   "cell_type": "code",
   "execution_count": null,
   "id": "2bc9e432",
   "metadata": {},
   "outputs": [],
   "source": [
    "class StyleDataset(MasterDataset):\n",
    "    def __init__(self, \n",
    "                 path      : str,           # Path to directory or zip file\n",
    "                 resolution: Optional[int], # resolution of image; None = highest available.\n",
    "                 **kwargs\n",
    "                 ):\n",
    "        super().__init__()\n",
    "\n",
    "        self._path = path\n",
    "        self._zipfile = None\n",
    "        self.resolution = resolution\n",
    "        self.interpolated = False\n",
    "\n",
    "        # os.walk           -> [root, director, files]\n",
    "        # os.path.relpath   -> returns relative path (from current directory)\n",
    "\n",
    "        @staticmethod\n",
    "        def _file_ext(fname: str) -> str:\n",
    "            # gets the format, ex: .zip, .png etc\n",
    "            os.path.splitext(fname)[1].lower() \n",
    "        \n",
    "        def _get_zipfile(self) -> zipfile.ZipFile:\n",
    "            assert self._type == \".zip\"\n",
    "            if self._zipfile is None:\n",
    "                self._zipfile = zipfile.ZipFile(self._path)\n",
    "            return self._zipfile\n",
    "        \n",
    "        def _open_file(self, fname: str) -> PIL.Image:\n",
    "            if self.type == 'dir':\n",
    "                return open((self._path + fname), \"rb\")\n",
    "            if self.type == 'zip':\n",
    "                return self._get_zipfile().open(fname, 'r') # zipfile.ZipFile.open() returns a binary file-like object by default\n",
    "            return None\n",
    "        \n",
    "        def _close_file(self) -> None:\n",
    "            try:\n",
    "                if self._zipfile is not None:\n",
    "                    self._zipfile.close()\n",
    "            finally:\n",
    "                self._zipfile = None\n",
    "\n",
    "        @staticmethod\n",
    "        def scale(width: int, height: int, img: np.ndarray) -> np.ndarray:\n",
    "            # img: [H, W, C]\n",
    "            h = img.shape[0]\n",
    "            w = img.shape[1]\n",
    "\n",
    "            if width == h and height == h: return img\n",
    "            ww = width if width is not None else w\n",
    "            hh = height if height is not None else h\n",
    "\n",
    "            img = img.resize((ww, hh), PIL.Image.LANCZOS)\n",
    "            return np.array(img)\n",
    "\n",
    "        if os.path.isdir(self._path):\n",
    "            self._type = \"dir\"\n",
    "            self._all_fnames = {os.path.relpath(os.path.join(root, fname))\n",
    "                                for root, _, files in os.walk(self._path)\n",
    "                                for fname in files}\n",
    "                                # This will get all director and subdirectory's realive path iteratively\n",
    "            \n",
    "        elif self._file_ext(self._path) == \".zip\":\n",
    "            self._type == \"zip\"\n",
    "            self._all_fnames = set(self._get_zipfile().namelist())\n",
    "        else:\n",
    "            raise IOError('Path must point to a directory or zip')\n",
    "        \n",
    "        PIL.Image.init()\n",
    "        self._image_fnames = sorted(fname for fname in self._all_fnames if self._file_ext(fname) in PIL.Image.EXTENSION)\n",
    "        if len(self._image_fnames) == 0: raise IOError(\"No images found in this directory\")\n",
    "        \n",
    "        name = os.path.splitext(os.path.basename(self._path))[0] # Basically from \".../Networks/dataset.zip\" -> \"dataset\"; if zip\n",
    "                                                                 #             or \".../Networks/dataset\"     -> \"dataset\"; if dir\n",
    "\n",
    "        raw_shape = len(self._image_fnames) + list(self._load_raw_image(0).shape)  # [B, C, H, W]\n",
    "        if resolution is not None and (raw_shape[2] != resolution or raw_shape[3] != resolution):\n",
    "            self.interpolate = True\n",
    "        super().__init__(name=name, raw_shape=raw_shape, **kwargs)\n",
    "\n",
    "        def _load_raw_image(self, raw_idx: int) -> np.ndarray:\n",
    "            fname = self._all_fnames[raw_idx]\n",
    "            with self._open_file(fname) as f:\n",
    "                image = np.ndarray(PIL.Image.open(f))\n",
    "            \n",
    "            if self.interpolated:\n",
    "                image = self.scale(self.resolution, self.resolution, image)\n",
    "\n",
    "            if image.ndim == 2:\n",
    "                image = image[:, :, np.newaxis] # [H, W] -> [H, W, C=1]; Grayscale image\n",
    "\n",
    "            image = image.transpose(2, 0, 1)    # [C, H, W]\n",
    "            return image\n",
    "        \n",
    "        def _load_raw_labels(self) -> np.ndarray:\n",
    "            fname = \"dataset.json\"\n",
    "            if fname not in self._all_fnames: return None\n",
    "\n",
    "            with self._open_file(fname) as f:\n",
    "                labels = json.load(f)['labels']\n",
    "            \n",
    "            if labels is None: return None\n",
    "            labels = np.array(dict(labels))\n",
    "\n",
    "            if isinstance(labels[0], str): return labels\n",
    "\n",
    "            labels = labels.astype({1: np.int64, 2: np.float32}[labels.ndim])\n",
    "            return labels"
   ]
  },
  {
   "cell_type": "code",
   "execution_count": 57,
   "id": "75537772",
   "metadata": {},
   "outputs": [
    {
     "data": {
      "text/plain": [
       "[5, 3, 224, 224]"
      ]
     },
     "execution_count": 57,
     "metadata": {},
     "output_type": "execute_result"
    }
   ],
   "source": [
    "[5] + [3, 224, 224]"
   ]
  },
  {
   "cell_type": "code",
   "execution_count": 56,
   "id": "eb05c946",
   "metadata": {},
   "outputs": [
    {
     "data": {
      "text/plain": [
       "{'filename': 'cat1.jpg', 'label': 'cat'}"
      ]
     },
     "execution_count": 56,
     "metadata": {},
     "output_type": "execute_result"
    }
   ],
   "source": [
    "with open('/Users/mohamedmafaz/Desktop/StyleGAN-T/notebooks/Networks/dataset/data.json', 'r') as f:\n",
    "    data = json.load(f)\n",
    "data[0]"
   ]
  },
  {
   "cell_type": "code",
   "execution_count": 28,
   "id": "4625412e",
   "metadata": {},
   "outputs": [
    {
     "data": {
      "text/plain": [
       "['dataset/',\n",
       " 'dataset/Dubai copy.jpg',\n",
       " '__MACOSX/dataset/._Dubai copy.jpg',\n",
       " 'dataset/.DS_Store',\n",
       " '__MACOSX/dataset/._.DS_Store',\n",
       " 'dataset/dataset 2/',\n",
       " 'dataset/Dubai copy 2.jpg',\n",
       " '__MACOSX/dataset/._Dubai copy 2.jpg',\n",
       " 'dataset/dataset 2/Dubai copy.jpg',\n",
       " '__MACOSX/dataset/dataset 2/._Dubai copy.jpg',\n",
       " 'dataset/dataset 2/.DS_Store',\n",
       " '__MACOSX/dataset/dataset 2/._.DS_Store',\n",
       " 'dataset/dataset 2/Dubai copy 2.jpg',\n",
       " '__MACOSX/dataset/dataset 2/._Dubai copy 2.jpg']"
      ]
     },
     "execution_count": 28,
     "metadata": {},
     "output_type": "execute_result"
    }
   ],
   "source": [
    "zipfile.ZipFile(\"/Users/mohamedmafaz/Desktop/StyleGAN-T/notebooks/Networks/dataset.zip\").namelist()"
   ]
  },
  {
   "cell_type": "code",
   "execution_count": 19,
   "id": "29eb1aef",
   "metadata": {},
   "outputs": [
    {
     "name": "stdout",
     "output_type": "stream",
     "text": [
      "('/Users/mohamedmafaz/Desktop/StyleGAN-T/notebooks/Networks/dataset', ['dataset 2'], ['Dubai copy.jpg', '.DS_Store', 'Dubai copy 2.jpg'])\n",
      "('/Users/mohamedmafaz/Desktop/StyleGAN-T/notebooks/Networks/dataset/dataset 2', [], ['Dubai copy.jpg', '.DS_Store', 'Dubai copy 2.jpg'])\n"
     ]
    }
   ],
   "source": [
    "for i in os.walk(\"/Users/mohamedmafaz/Desktop/StyleGAN-T/notebooks/Networks/dataset\"):\n",
    "    print(i)"
   ]
  },
  {
   "cell_type": "code",
   "execution_count": null,
   "id": "691ed3b0",
   "metadata": {},
   "outputs": [
    {
     "data": {
      "text/plain": [
       "(array([2, 3]),)"
      ]
     },
     "execution_count": 89,
     "metadata": {},
     "output_type": "execute_result"
    }
   ],
   "source": [
    "labels = np.array([\n",
    "    \"a dog playing\",\n",
    "    \"a mountain landscape\",\n",
    "    \"a sketch of a robot\",\n",
    "    \"puppy\",\n",
    "], dtype=str)  # shape: [N]\n",
    "\n",
    "new_idcs = [labels == cl for cl in [\"a sketch of a robot\", \"puppy\"]] # new_idcs: [True, False, False...]\n",
    "new_idcs = np.sum(np.vstack(new_idcs), 0)                            # new_idcs: [1   , 0    , 0    ...]\n",
    "new_idcs = np.where(new_idcs)                                        # new_idcs: [2,3..]\n",
    "new_idcs"
   ]
  },
  {
   "cell_type": "code",
   "execution_count": null,
   "id": "c052f398",
   "metadata": {},
   "outputs": [
    {
     "data": {
      "text/plain": [
       "False"
      ]
     },
     "execution_count": 91,
     "metadata": {},
     "output_type": "execute_result"
    }
   ],
   "source": [
    "isinstance(labels.dtype, np.str_)"
   ]
  },
  {
   "cell_type": "code",
   "execution_count": null,
   "id": "6b13e46e",
   "metadata": {},
   "outputs": [
    {
     "data": {
      "text/plain": [
       "array([], shape=(5, 0), dtype=float32)"
      ]
     },
     "execution_count": 69,
     "metadata": {},
     "output_type": "execute_result"
    }
   ],
   "source": [
    "np.zeros([5, 0], dtype=np.float32)"
   ]
  },
  {
   "cell_type": "code",
   "execution_count": null,
   "id": "55059f13",
   "metadata": {},
   "outputs": [
    {
     "data": {
      "text/plain": [
       "array([False, False,  True])"
      ]
     },
     "execution_count": 56,
     "metadata": {},
     "output_type": "execute_result"
    }
   ],
   "source": []
  }
 ],
 "metadata": {
  "kernelspec": {
   "display_name": "Python 3",
   "language": "python",
   "name": "python3"
  },
  "language_info": {
   "codemirror_mode": {
    "name": "ipython",
    "version": 3
   },
   "file_extension": ".py",
   "mimetype": "text/x-python",
   "name": "python",
   "nbconvert_exporter": "python",
   "pygments_lexer": "ipython3",
   "version": "3.11.5"
  }
 },
 "nbformat": 4,
 "nbformat_minor": 5
}
