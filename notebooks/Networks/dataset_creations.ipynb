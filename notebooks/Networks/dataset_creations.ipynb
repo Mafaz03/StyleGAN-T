{
 "cells": [
  {
   "cell_type": "code",
   "execution_count": 78,
   "id": "259ce820",
   "metadata": {},
   "outputs": [],
   "source": [
    "import os\n",
    "import zipfile\n",
    "import PIL.Image\n",
    "import json\n",
    "import copy\n",
    "from typing import IO, Optional, List, Tuple, Dict\n",
    "\n",
    "import numpy as np\n",
    "import torch\n",
    "from torch import nn\n",
    "\n",
    "from torch.utils.data import DataLoader, Dataset"
   ]
  },
  {
   "cell_type": "code",
   "execution_count": null,
   "id": "4eb6ff11",
   "metadata": {},
   "outputs": [],
   "source": [
    "class StyleDataset(Dataset):\n",
    "    def __init__(self, \n",
    "                 name       : str,                     # Name of the Dataset\n",
    "                 raw_shape  : List,                    # Raw shape of the images [B, C, H, W]\n",
    "                 max_size   : Optional[int] = None,    # Artificially limit the size of the dataset. None = no limit. Applied before xflip.\n",
    "                 use_labels : bool = False,            # Enable conditioning labels? False = label dimension is zero.\n",
    "                 xflip      : bool = False,            # Artificially double the size of the dataset via x-flips. Applied after max_size.\n",
    "                 random_seed: Optional[int] = 1,       # Random seed to use when applying max_size.\n",
    "                 ):\n",
    "        super().__init__()\n",
    "        \n",
    "        self._name        = name\n",
    "        self._raw_shape   = list(raw_shape)\n",
    "        self._use_labels  = use_labels\n",
    "        self._raw_labels  = None\n",
    "        self._label_shape = None\n",
    "\n",
    "        self._raw_idx = np.arange(self._raw_shape, dtype = np.int64)\n",
    "        self._base_raw_idx = copy.deepcopy(self._raw_idx)\n",
    "        if (max_size is not None) and len(self._raw_shape[0]) > max_size:\n",
    "            np.random.RandomState(random_seed).shuffle(self._raw_idx)\n",
    "            self._raw_idx = np.sort(self._raw_idx[:max_size])\n",
    "\n",
    "        self.xflip = np.zeros_like(self._raw_idx)       # self.xflip:   [0, 1, 2...]\n",
    "        if xflip:\n",
    "            self._raw_idx = np.tile(self._raw_idx, 2)   # 2; Doubling Dataset\n",
    "                                                        # self._raw_idx: [0, 1, 2.. , 0, 1, 2...]\n",
    "            self.xflip = np.concatenate((self.xflip, np.ones_like(self._raw_idx)))\n",
    "                                                        # self.xflip: [0, 0, 0.. , 1, 1, 1...]\n",
    "\n",
    "    def set_dynamic_lenght(self, new_len: int):\n",
    "        self._raw_idx = self._base_raw_idx[:new_len]\n",
    "\n",
    "    def _load_raw_labels():\n",
    "        # This must be Implmented later on with different class\n",
    "        raise NotImplemented\n",
    "    \n",
    "    def _load_raw_image(self, raw_idx: int) -> None: # to be overridden by subclass\n",
    "        raise NotImplementedError\n",
    "    \n",
    "    def close(self) -> None: # to be overridden by subclass\n",
    "        pass\n",
    "\n",
    "    def __del__(self) -> None:\n",
    "        try:\n",
    "            self.close()\n",
    "        except:\n",
    "            pass\n",
    "\n",
    "    def __getstate__(self) -> dict:\n",
    "        return dict(self.__dict__, _raw_labels=None)\n",
    "    \n",
    "    def set_class(self, cls_list: List) -> None:\n",
    "        self._raw_labels = self._load_raw_labels()  \n",
    "        new_idcs = [self._raw_labels == cl for cl in cls_list]\n",
    "        \n",
    "        new_idcs = [self._raw_labels == cl for cl in cls_list]     # new_idcs: [True, False, False...]\n",
    "        new_idcs = np.sum(np.vstack(new_idcs), 0)                  # new_idcs: [1   , 0    , 0    ...]\n",
    "        new_idcs = np.where(new_idcs)                              # new_idcs: [2,3..]\n",
    "\n",
    "        self._raw_idx = self._base_raw_idx[new_idcs]\n",
    "        assert all(sorted(cls_list) == np.unique(self._raw_labels[self._raw_idx])) # cls_list == unique labels\n",
    "        print(f\"Training on the following classes: {cls_list}\")\n",
    "    \n",
    "    def _get_raw_labels(self) -> np.ndarray:\n",
    "        if self._raw_labels is None:\n",
    "            self._raw_labels = self._load_raw_labels() if self._use_labels else None\n",
    "            if self._raw_labels is None:\n",
    "                self._raw_labels = np.zeros([self._raw_shape[0], 0], dtype=np.float32)\n",
    "\n",
    "            assert isinstance(self._raw_labels, np.ndarray)\n",
    "            assert self._raw_labels[0] == self._raw_shape[0] # Same Batch size\n",
    "            assert self._raw_labels.dtype.type in [np.float32, np.int64, np.str_]\n",
    "            if self._raw_labels.dtype == np.int64:          # If one hot encoded\n",
    "                assert self._raw_labels.ndim == 1\n",
    "                assert np.all(self._raw_labels >= 0)\n",
    "        return self._raw_labels\n",
    "    \n",
    "    def __len__(self) -> int:\n",
    "        return self._raw_idx.shape\n",
    "    \n",
    "    def get_label(self, idx: int) -> np.ndarray:\n",
    "        label = self._get_raw_labels()[self._raw_idx[idx]]\n",
    "        if label.dtype == np.int64:\n",
    "            one_hot = np.zeros(self._label_shape, dtype=np.float32)\n",
    "            one_hot[label] = 1\n",
    "            label = one_hot\n",
    "        assert isinstance(label, np.ndarray)\n",
    "        return label.copy()\n",
    "    \n",
    "    def __getitem__(self, idx: int) -> Tuple[np.ndarray, np.ndarray]:\n",
    "        image = self._load_raw_image()[self._raw_idx[idx]]\n",
    "        if self.xflip[idx]:  # if xflip[idx] is 1; refer line 28\n",
    "            assert image.ndim == 3 #[C, H, W]\n",
    "            image = image[:, : , ::-1]   # reverses the Width; flips it\n",
    "        assert isinstance(image, np.ndarray)\n",
    "        assert image.dtype == np.uint8\n",
    "\n",
    "        return image.copy(), self.get_label()(idx)\n",
    "    \n",
    "    def get_details(self, idx: int) -> Dict:\n",
    "        d = {}\n",
    "        d[\"raw_idx\"] = int(self._raw_idx[idx])\n",
    "        d[\"xflip\"] = int(self.xflip[idx] != 0)\n",
    "        d[\"raw_label\"] = self._get_raw_labels()[self._raw_idx[idx]].copy()\n",
    "        return d\n",
    "    \n",
    "    @property\n",
    "    def name(self) -> str:\n",
    "        return self._name\n",
    "\n",
    "    @property\n",
    "    def image_shape(self) -> list:\n",
    "        return list(self._raw_shape[1:])\n",
    "\n",
    "    @property\n",
    "    def num_channels(self) -> int:\n",
    "        assert len(self.image_shape) == 3 # CHW\n",
    "        return self.image_shape[0]\n",
    "    \n",
    "    @property\n",
    "    def label_shape(self) -> List:\n",
    "        if self._label_shape is None:\n",
    "            raw_labels = self._get_raw_labels()\n",
    "            if isinstance(raw_labels, dict):\n",
    "                self._label_shape = [1]\n",
    "            \n",
    "            elif isinstance(raw_labels, np.int64):\n",
    "                self._label_shape = [1 + np.max(raw_labels)]\n",
    "\n",
    "            elif isinstance(raw_labels, np.str_):\n",
    "                self._label_shape = [1]\n",
    "\n",
    "            else:\n",
    "                self._label_shape = raw_labels.shape[1:]\n",
    "        return list(self._label_shape)\n",
    "    \n",
    "    @property\n",
    "    def label_dim(self) -> int:\n",
    "        assert len(self.label_shape) == 1\n",
    "        return self.label_shape[0]\n",
    "    \n",
    "    @property\n",
    "    def has_labels(self) -> bool:\n",
    "        return any(x != 0 for x in self.label_shape)\n",
    "    \n",
    "    @property\n",
    "    def labels_are_text(self) -> bool:\n",
    "        raw_labels = self._get_raw_labels()\n",
    "        if isinstance(raw_labels, dict):\n",
    "            return True  # TODO: dict = zip dataset, fix this\n",
    "        else:\n",
    "            return raw_labels.dtype.type == np.str_\n",
    "        \n",
    "    @property\n",
    "    def has_onehot_labels(self) -> bool:\n",
    "        return self._get_raw_labels().dtype == np.int64"
   ]
  },
  {
   "cell_type": "code",
   "execution_count": null,
   "id": "2bc9e432",
   "metadata": {},
   "outputs": [
    {
     "data": {
      "text/plain": [
       "1"
      ]
     },
     "execution_count": 74,
     "metadata": {},
     "output_type": "execute_result"
    }
   ],
   "source": [
    "label = "
   ]
  },
  {
   "cell_type": "code",
   "execution_count": 89,
   "id": "691ed3b0",
   "metadata": {},
   "outputs": [
    {
     "data": {
      "text/plain": [
       "(array([2, 3]),)"
      ]
     },
     "execution_count": 89,
     "metadata": {},
     "output_type": "execute_result"
    }
   ],
   "source": [
    "labels = np.array([\n",
    "    \"a dog playing\",\n",
    "    \"a mountain landscape\",\n",
    "    \"a sketch of a robot\",\n",
    "    \"puppy\",\n",
    "], dtype=str)  # shape: [N]\n",
    "\n",
    "new_idcs = [labels == cl for cl in [\"a sketch of a robot\", \"puppy\"]] # new_idcs: [True, False, False...]\n",
    "new_idcs = np.sum(np.vstack(new_idcs), 0)                            # new_idcs: [1   , 0    , 0    ...]\n",
    "new_idcs = np.where(new_idcs)                                        # new_idcs: [2,3..]\n",
    "new_idcs"
   ]
  },
  {
   "cell_type": "code",
   "execution_count": 91,
   "id": "c052f398",
   "metadata": {},
   "outputs": [
    {
     "data": {
      "text/plain": [
       "False"
      ]
     },
     "execution_count": 91,
     "metadata": {},
     "output_type": "execute_result"
    }
   ],
   "source": [
    "isinstance(labels.dtype, np.str_)"
   ]
  },
  {
   "cell_type": "code",
   "execution_count": 69,
   "id": "6b13e46e",
   "metadata": {},
   "outputs": [
    {
     "data": {
      "text/plain": [
       "array([], shape=(5, 0), dtype=float32)"
      ]
     },
     "execution_count": 69,
     "metadata": {},
     "output_type": "execute_result"
    }
   ],
   "source": [
    "np.zeros([5, 0], dtype=np.float32)"
   ]
  },
  {
   "cell_type": "code",
   "execution_count": null,
   "id": "55059f13",
   "metadata": {},
   "outputs": [
    {
     "data": {
      "text/plain": [
       "array([False, False,  True])"
      ]
     },
     "execution_count": 56,
     "metadata": {},
     "output_type": "execute_result"
    }
   ],
   "source": []
  }
 ],
 "metadata": {
  "kernelspec": {
   "display_name": "Python 3",
   "language": "python",
   "name": "python3"
  },
  "language_info": {
   "codemirror_mode": {
    "name": "ipython",
    "version": 3
   },
   "file_extension": ".py",
   "mimetype": "text/x-python",
   "name": "python",
   "nbconvert_exporter": "python",
   "pygments_lexer": "ipython3",
   "version": "3.11.5"
  }
 },
 "nbformat": 4,
 "nbformat_minor": 5
}
